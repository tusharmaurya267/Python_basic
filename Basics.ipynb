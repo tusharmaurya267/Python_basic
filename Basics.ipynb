{
  "nbformat": 4,
  "nbformat_minor": 0,
  "metadata": {
    "colab": {
      "provenance": [],
      "authorship_tag": "ABX9TyPxpbODJUU6Wyp6C2eoj5tT",
      "include_colab_link": true
    },
    "kernelspec": {
      "name": "python3",
      "display_name": "Python 3"
    },
    "language_info": {
      "name": "python"
    }
  },
  "cells": [
    {
      "cell_type": "markdown",
      "metadata": {
        "id": "view-in-github",
        "colab_type": "text"
      },
      "source": [
        "<a href=\"https://colab.research.google.com/github/tusharmaurya267/Python_basic/blob/main/Basics.ipynb\" target=\"_parent\"><img src=\"https://colab.research.google.com/assets/colab-badge.svg\" alt=\"Open In Colab\"/></a>"
      ]
    },
    {
      "cell_type": "code",
      "execution_count": 13,
      "metadata": {
        "id": "6WiB6qZXSfN0",
        "colab": {
          "base_uri": "https://localhost:8080/"
        },
        "outputId": "e771d0e9-2e8f-46a2-fe61-23b8d469469a"
      },
      "outputs": [
        {
          "output_type": "execute_result",
          "data": {
            "text/plain": [
              "int"
            ]
          },
          "metadata": {},
          "execution_count": 13
        }
      ],
      "source": [
        "a=5\n",
        "type(a)"
      ]
    },
    {
      "cell_type": "code",
      "source": [
        "b=\"this is\"\n",
        "type(b)"
      ],
      "metadata": {
        "colab": {
          "base_uri": "https://localhost:8080/"
        },
        "id": "J_2MzxEVxOII",
        "outputId": "8666d4fa-8f2c-4361-a2c6-53cefce14b27"
      },
      "execution_count": 11,
      "outputs": [
        {
          "output_type": "execute_result",
          "data": {
            "text/plain": [
              "str"
            ]
          },
          "metadata": {},
          "execution_count": 11
        }
      ]
    },
    {
      "cell_type": "code",
      "source": [
        "c=8.9\n",
        "type(c)"
      ],
      "metadata": {
        "colab": {
          "base_uri": "https://localhost:8080/"
        },
        "id": "ESZgsJ0Pxakt",
        "outputId": "8f8bb320-cb4f-49e9-f0b7-2577ad89ae6b"
      },
      "execution_count": 12,
      "outputs": [
        {
          "output_type": "execute_result",
          "data": {
            "text/plain": [
              "float"
            ]
          },
          "metadata": {},
          "execution_count": 12
        }
      ]
    },
    {
      "cell_type": "code",
      "source": [
        "d=False\n",
        "type(d)"
      ],
      "metadata": {
        "colab": {
          "base_uri": "https://localhost:8080/"
        },
        "id": "VH3fTPUNxR-e",
        "outputId": "f9ca9f44-e7ac-425c-dfef-f35128efd74f"
      },
      "execution_count": 8,
      "outputs": [
        {
          "output_type": "execute_result",
          "data": {
            "text/plain": [
              "bool"
            ]
          },
          "metadata": {},
          "execution_count": 8
        }
      ]
    },
    {
      "cell_type": "code",
      "source": [
        "com=3+5j\n",
        "type(com)"
      ],
      "metadata": {
        "colab": {
          "base_uri": "https://localhost:8080/"
        },
        "id": "_PzYn0TRxTN7",
        "outputId": "54952409-33d4-4eaf-9eda-5b16b5655aef"
      },
      "execution_count": 10,
      "outputs": [
        {
          "output_type": "execute_result",
          "data": {
            "text/plain": [
              "complex"
            ]
          },
          "metadata": {},
          "execution_count": 10
        }
      ]
    },
    {
      "cell_type": "code",
      "source": [],
      "metadata": {
        "id": "v_Eo_CsoMEBp"
      },
      "execution_count": null,
      "outputs": []
    },
    {
      "cell_type": "code",
      "source": [],
      "metadata": {
        "id": "YqKeXlqtME_Z"
      },
      "execution_count": null,
      "outputs": []
    },
    {
      "cell_type": "code",
      "source": [
        "# STRING"
      ],
      "metadata": {
        "id": "SWYXAosAxVyT"
      },
      "execution_count": 1,
      "outputs": []
    },
    {
      "cell_type": "code",
      "source": [
        "str1=\"This is John Pandya. Say Hi\"\n",
        "str1"
      ],
      "metadata": {
        "colab": {
          "base_uri": "https://localhost:8080/",
          "height": 35
        },
        "id": "Jg2Q9npALy_M",
        "outputId": "92126502-9ed3-4dac-c1b0-86ec67972534"
      },
      "execution_count": 2,
      "outputs": [
        {
          "output_type": "execute_result",
          "data": {
            "text/plain": [
              "'This is John Pandya. Say Hi'"
            ],
            "application/vnd.google.colaboratory.intrinsic+json": {
              "type": "string"
            }
          },
          "metadata": {},
          "execution_count": 2
        }
      ]
    },
    {
      "cell_type": "code",
      "source": [
        "str1[5]"
      ],
      "metadata": {
        "colab": {
          "base_uri": "https://localhost:8080/",
          "height": 35
        },
        "id": "RirAWjDGMBNs",
        "outputId": "815ec688-e2bb-4495-e16d-8c5b5845383f"
      },
      "execution_count": 4,
      "outputs": [
        {
          "output_type": "execute_result",
          "data": {
            "text/plain": [
              "'i'"
            ],
            "application/vnd.google.colaboratory.intrinsic+json": {
              "type": "string"
            }
          },
          "metadata": {},
          "execution_count": 4
        }
      ]
    },
    {
      "cell_type": "code",
      "source": [
        "str1[1:4]"
      ],
      "metadata": {
        "colab": {
          "base_uri": "https://localhost:8080/",
          "height": 35
        },
        "id": "dxcxhL0lMis5",
        "outputId": "263394be-22d6-4a31-e630-7d858f77ef98"
      },
      "execution_count": 5,
      "outputs": [
        {
          "output_type": "execute_result",
          "data": {
            "text/plain": [
              "'his'"
            ],
            "application/vnd.google.colaboratory.intrinsic+json": {
              "type": "string"
            }
          },
          "metadata": {},
          "execution_count": 5
        }
      ]
    },
    {
      "cell_type": "code",
      "source": [
        "str1[-3:]\n"
      ],
      "metadata": {
        "colab": {
          "base_uri": "https://localhost:8080/",
          "height": 35
        },
        "id": "ZaQViW3dMpYx",
        "outputId": "241207fb-1d55-4adf-eef6-d3b923604c8d"
      },
      "execution_count": 6,
      "outputs": [
        {
          "output_type": "execute_result",
          "data": {
            "text/plain": [
              "' Hi'"
            ],
            "application/vnd.google.colaboratory.intrinsic+json": {
              "type": "string"
            }
          },
          "metadata": {},
          "execution_count": 6
        }
      ]
    },
    {
      "cell_type": "code",
      "source": [
        "len(str1)"
      ],
      "metadata": {
        "colab": {
          "base_uri": "https://localhost:8080/"
        },
        "id": "jg2-PJimMwan",
        "outputId": "d9068054-42c5-4f20-dc0f-ac0a6cccb3ee"
      },
      "execution_count": 7,
      "outputs": [
        {
          "output_type": "execute_result",
          "data": {
            "text/plain": [
              "27"
            ]
          },
          "metadata": {},
          "execution_count": 7
        }
      ]
    },
    {
      "cell_type": "code",
      "source": [
        "str1.lower()"
      ],
      "metadata": {
        "colab": {
          "base_uri": "https://localhost:8080/",
          "height": 35
        },
        "id": "Vwdu4CfeNLwG",
        "outputId": "843be3cd-f8d9-46c5-eac2-8652ab677c83"
      },
      "execution_count": 8,
      "outputs": [
        {
          "output_type": "execute_result",
          "data": {
            "text/plain": [
              "'this is john pandya. say hi'"
            ],
            "application/vnd.google.colaboratory.intrinsic+json": {
              "type": "string"
            }
          },
          "metadata": {},
          "execution_count": 8
        }
      ]
    },
    {
      "cell_type": "code",
      "source": [
        "str1.upper()"
      ],
      "metadata": {
        "colab": {
          "base_uri": "https://localhost:8080/",
          "height": 35
        },
        "id": "I0Fab9kENNt4",
        "outputId": "04c2fd42-3f35-4a5d-b6f8-a385bd479dc3"
      },
      "execution_count": 9,
      "outputs": [
        {
          "output_type": "execute_result",
          "data": {
            "text/plain": [
              "'THIS IS JOHN PANDYA. SAY HI'"
            ],
            "application/vnd.google.colaboratory.intrinsic+json": {
              "type": "string"
            }
          },
          "metadata": {},
          "execution_count": 9
        }
      ]
    },
    {
      "cell_type": "code",
      "source": [
        "str1.replace('n','a')"
      ],
      "metadata": {
        "colab": {
          "base_uri": "https://localhost:8080/",
          "height": 35
        },
        "id": "ddA1fm4PNQfe",
        "outputId": "63428465-44c3-4435-af2b-8f9466712005"
      },
      "execution_count": 11,
      "outputs": [
        {
          "output_type": "execute_result",
          "data": {
            "text/plain": [
              "'This is Joha Paadya. Say Hi'"
            ],
            "application/vnd.google.colaboratory.intrinsic+json": {
              "type": "string"
            }
          },
          "metadata": {},
          "execution_count": 11
        }
      ]
    },
    {
      "cell_type": "code",
      "source": [
        "str2=\"hello, how are you John. Hi, Tata how are you.\"\n",
        "str2.count(\"how\")"
      ],
      "metadata": {
        "colab": {
          "base_uri": "https://localhost:8080/"
        },
        "id": "iG0gq2Isb027",
        "outputId": "9d7e4ef2-8a04-4fb5-f1a0-c518824ba7f6"
      },
      "execution_count": 1,
      "outputs": [
        {
          "output_type": "execute_result",
          "data": {
            "text/plain": [
              "2"
            ]
          },
          "metadata": {},
          "execution_count": 1
        }
      ]
    },
    {
      "cell_type": "code",
      "source": [
        "str2.find(\"are\")"
      ],
      "metadata": {
        "colab": {
          "base_uri": "https://localhost:8080/"
        },
        "id": "p00wMKIbiJil",
        "outputId": "1a611845-b6a9-42a4-d233-455b60361eb4"
      },
      "execution_count": 2,
      "outputs": [
        {
          "output_type": "execute_result",
          "data": {
            "text/plain": [
              "11"
            ]
          },
          "metadata": {},
          "execution_count": 2
        }
      ]
    },
    {
      "cell_type": "code",
      "source": [
        "str2.split('.')"
      ],
      "metadata": {
        "colab": {
          "base_uri": "https://localhost:8080/"
        },
        "id": "PJ76-qStif41",
        "outputId": "45daf15c-1d4e-43d2-b106-048f06bb4374"
      },
      "execution_count": 5,
      "outputs": [
        {
          "output_type": "execute_result",
          "data": {
            "text/plain": [
              "['hello, how are you John', ' Hi, Tata how are you', '']"
            ]
          },
          "metadata": {},
          "execution_count": 5
        }
      ]
    },
    {
      "cell_type": "code",
      "source": [
        "int(c)"
      ],
      "metadata": {
        "colab": {
          "base_uri": "https://localhost:8080/"
        },
        "id": "wcRLn40cilP4",
        "outputId": "1ed3364a-0dd7-4f32-a3df-f3d38ca49f61"
      },
      "execution_count": 9,
      "outputs": [
        {
          "output_type": "execute_result",
          "data": {
            "text/plain": [
              "8"
            ]
          },
          "metadata": {},
          "execution_count": 9
        }
      ]
    },
    {
      "cell_type": "code",
      "source": [
        "float(a)"
      ],
      "metadata": {
        "colab": {
          "base_uri": "https://localhost:8080/"
        },
        "id": "2ZlpRQk_kBxB",
        "outputId": "0c642241-6d3b-4621-81ff-ad3e44443143"
      },
      "execution_count": 15,
      "outputs": [
        {
          "output_type": "execute_result",
          "data": {
            "text/plain": [
              "5.0"
            ]
          },
          "metadata": {},
          "execution_count": 15
        }
      ]
    },
    {
      "cell_type": "code",
      "source": [],
      "metadata": {
        "id": "D90H_T4f7pOY"
      },
      "execution_count": null,
      "outputs": []
    },
    {
      "cell_type": "code",
      "source": [],
      "metadata": {
        "id": "S7OarxbR7pCd"
      },
      "execution_count": null,
      "outputs": []
    },
    {
      "cell_type": "code",
      "source": [
        "# INPUT"
      ],
      "metadata": {
        "id": "VVpaMJjukMbh"
      },
      "execution_count": 16,
      "outputs": []
    },
    {
      "cell_type": "code",
      "source": [
        "a=int(input(\"Enter the number:  \"))"
      ],
      "metadata": {
        "colab": {
          "base_uri": "https://localhost:8080/"
        },
        "id": "VMMrHILx7tX_",
        "outputId": "94eb2750-f1fe-44a6-940e-318d841d1b23"
      },
      "execution_count": 22,
      "outputs": [
        {
          "name": "stdout",
          "output_type": "stream",
          "text": [
            "Enter the number:  5\n"
          ]
        }
      ]
    },
    {
      "cell_type": "code",
      "source": [
        "b=float(input())"
      ],
      "metadata": {
        "colab": {
          "base_uri": "https://localhost:8080/"
        },
        "id": "GeNdA-ZP7wM5",
        "outputId": "a7489c4a-9952-4155-fef5-c973daf1ca62"
      },
      "execution_count": 18,
      "outputs": [
        {
          "name": "stdout",
          "output_type": "stream",
          "text": [
            "3\n"
          ]
        }
      ]
    },
    {
      "cell_type": "code",
      "source": [
        "c=input()"
      ],
      "metadata": {
        "colab": {
          "base_uri": "https://localhost:8080/"
        },
        "id": "mC2lAFn770EA",
        "outputId": "90681cc1-c0ae-40a3-bf30-b34b47e4a77e"
      },
      "execution_count": 21,
      "outputs": [
        {
          "name": "stdout",
          "output_type": "stream",
          "text": [
            "hello everyone\n"
          ]
        }
      ]
    },
    {
      "cell_type": "code",
      "source": [],
      "metadata": {
        "id": "dyY6VntOAJuZ"
      },
      "execution_count": null,
      "outputs": []
    },
    {
      "cell_type": "code",
      "source": [],
      "metadata": {
        "id": "Pw8fbLWJAJis"
      },
      "execution_count": null,
      "outputs": []
    },
    {
      "cell_type": "code",
      "source": [
        "# LOOP"
      ],
      "metadata": {
        "id": "1yMe5WTV74OV"
      },
      "execution_count": 23,
      "outputs": []
    },
    {
      "cell_type": "code",
      "source": [
        "list(range(13))"
      ],
      "metadata": {
        "colab": {
          "base_uri": "https://localhost:8080/"
        },
        "id": "Ff6JUFyHALI4",
        "outputId": "8eef0bef-a196-40d5-c15f-7b96442e8d69"
      },
      "execution_count": 25,
      "outputs": [
        {
          "output_type": "execute_result",
          "data": {
            "text/plain": [
              "[0, 1, 2, 3, 4, 5, 6, 7, 8, 9, 10, 11, 12]"
            ]
          },
          "metadata": {},
          "execution_count": 25
        }
      ]
    },
    {
      "cell_type": "code",
      "source": [
        "list(range(2,13))"
      ],
      "metadata": {
        "colab": {
          "base_uri": "https://localhost:8080/"
        },
        "id": "vilzOdTYAR8a",
        "outputId": "423f4c3b-8dd1-48c1-c99c-a859721bbe59"
      },
      "execution_count": 26,
      "outputs": [
        {
          "output_type": "execute_result",
          "data": {
            "text/plain": [
              "[2, 3, 4, 5, 6, 7, 8, 9, 10, 11, 12]"
            ]
          },
          "metadata": {},
          "execution_count": 26
        }
      ]
    },
    {
      "cell_type": "code",
      "source": [
        "list(range(2,13,3))"
      ],
      "metadata": {
        "colab": {
          "base_uri": "https://localhost:8080/"
        },
        "id": "Bbtgke-dAaUv",
        "outputId": "a98c8944-0471-45c6-8baf-079c9e11015c"
      },
      "execution_count": 27,
      "outputs": [
        {
          "output_type": "execute_result",
          "data": {
            "text/plain": [
              "[2, 5, 8, 11]"
            ]
          },
          "metadata": {},
          "execution_count": 27
        }
      ]
    },
    {
      "cell_type": "code",
      "source": [
        "n=int(input(\"Enter range: \"))\n",
        "j=int(input(\"Enter start: \"))\n",
        "step=int(input(\"Enter steps: \"))\n",
        "for i in range(j,n,step):\n",
        "  print(i)"
      ],
      "metadata": {
        "colab": {
          "base_uri": "https://localhost:8080/"
        },
        "id": "QK9BEZTLAdWE",
        "outputId": "fe6c05f1-b6db-444c-ae98-0813300406b8"
      },
      "execution_count": 29,
      "outputs": [
        {
          "output_type": "stream",
          "name": "stdout",
          "text": [
            "Enter range: 30\n",
            "Enter start: 2\n",
            "Enter steps: 4\n",
            "2\n",
            "6\n",
            "10\n",
            "14\n",
            "18\n",
            "22\n",
            "26\n"
          ]
        }
      ]
    },
    {
      "cell_type": "code",
      "source": [
        "fruits=['mango','banana','lichi','orange']\n",
        "n=len(fruits)\n",
        "\n",
        "for i in range(n):\n",
        "  print(i,\"This is\" ,fruits[i])"
      ],
      "metadata": {
        "colab": {
          "base_uri": "https://localhost:8080/"
        },
        "id": "KztIcMI1Ai2a",
        "outputId": "5ecfa871-fccf-4cf2-e78c-fa056c35e18b"
      },
      "execution_count": 33,
      "outputs": [
        {
          "output_type": "stream",
          "name": "stdout",
          "text": [
            "0 This is mango\n",
            "1 This is banana\n",
            "2 This is lichi\n",
            "3 This is orange\n"
          ]
        }
      ]
    },
    {
      "cell_type": "code",
      "source": [
        "fruits=['mango','banana','lichi','orange']\n",
        "veges=['potato','bhindi','onion','brinjal']\n",
        "n_f=len(fruits)\n",
        "n_v=len(veges)\n",
        "for i in fruits:\n",
        "  for j in veges:\n",
        "    print(i, \"looks good with\" , j)\n",
        "\n",
        "print('\\n \\n')\n",
        "for i in range(n_f):\n",
        "  for j in range(n_v):\n",
        "    print(fruits[i], \"looks good with\" , veges[j])"
      ],
      "metadata": {
        "colab": {
          "base_uri": "https://localhost:8080/"
        },
        "id": "N-u6OnTaBdw6",
        "outputId": "38e4ca1f-8190-468c-95b0-1b4d5dffc5f4"
      },
      "execution_count": 39,
      "outputs": [
        {
          "output_type": "stream",
          "name": "stdout",
          "text": [
            "mango looks good with potato\n",
            "mango looks good with bhindi\n",
            "mango looks good with onion\n",
            "mango looks good with brinjal\n",
            "banana looks good with potato\n",
            "banana looks good with bhindi\n",
            "banana looks good with onion\n",
            "banana looks good with brinjal\n",
            "lichi looks good with potato\n",
            "lichi looks good with bhindi\n",
            "lichi looks good with onion\n",
            "lichi looks good with brinjal\n",
            "orange looks good with potato\n",
            "orange looks good with bhindi\n",
            "orange looks good with onion\n",
            "orange looks good with brinjal\n",
            "\n",
            " \n",
            "\n",
            "mango looks good with potato\n",
            "mango looks good with bhindi\n",
            "mango looks good with onion\n",
            "mango looks good with brinjal\n",
            "banana looks good with potato\n",
            "banana looks good with bhindi\n",
            "banana looks good with onion\n",
            "banana looks good with brinjal\n",
            "lichi looks good with potato\n",
            "lichi looks good with bhindi\n",
            "lichi looks good with onion\n",
            "lichi looks good with brinjal\n",
            "orange looks good with potato\n",
            "orange looks good with bhindi\n",
            "orange looks good with onion\n",
            "orange looks good with brinjal\n"
          ]
        }
      ]
    },
    {
      "cell_type": "code",
      "source": [
        "r=10\n",
        "for i in range(1,r+1,1):\n",
        "  for j in range(1,i+1,1):\n",
        "    print(j,end=\" \")\n",
        "  print()"
      ],
      "metadata": {
        "colab": {
          "base_uri": "https://localhost:8080/"
        },
        "id": "VeOpuDxMCyVd",
        "outputId": "5c6dd5b3-5614-4602-b439-15f851c18e8e"
      },
      "execution_count": 10,
      "outputs": [
        {
          "output_type": "stream",
          "name": "stdout",
          "text": [
            "1 \n",
            "1 2 \n",
            "1 2 3 \n",
            "1 2 3 4 \n",
            "1 2 3 4 5 \n",
            "1 2 3 4 5 6 \n",
            "1 2 3 4 5 6 7 \n",
            "1 2 3 4 5 6 7 8 \n",
            "1 2 3 4 5 6 7 8 9 \n",
            "1 2 3 4 5 6 7 8 9 10 \n"
          ]
        }
      ]
    },
    {
      "cell_type": "code",
      "source": [],
      "metadata": {
        "id": "qItADlaftwj_"
      },
      "execution_count": null,
      "outputs": []
    },
    {
      "cell_type": "code",
      "source": [],
      "metadata": {
        "id": "aavemT6UtwaV"
      },
      "execution_count": null,
      "outputs": []
    },
    {
      "cell_type": "code",
      "source": [
        "# LIST"
      ],
      "metadata": {
        "id": "jfX4JisQqySq"
      },
      "execution_count": 11,
      "outputs": []
    },
    {
      "cell_type": "code",
      "source": [
        "l1=[2,'a',5.97,True,\"abcd\"]\n",
        "l1"
      ],
      "metadata": {
        "colab": {
          "base_uri": "https://localhost:8080/"
        },
        "id": "nxdPq65gtyMA",
        "outputId": "1ea8806b-0c98-4383-9de1-53d611aa647e"
      },
      "execution_count": 22,
      "outputs": [
        {
          "output_type": "execute_result",
          "data": {
            "text/plain": [
              "[2, 'a', 5.97, True, 'abcd']"
            ]
          },
          "metadata": {},
          "execution_count": 22
        }
      ]
    },
    {
      "cell_type": "code",
      "source": [
        "l1[1]=34\n",
        "l1"
      ],
      "metadata": {
        "colab": {
          "base_uri": "https://localhost:8080/"
        },
        "id": "V0rsjQqQt7Dl",
        "outputId": "68681885-343f-4008-e07d-e2740e4c88cb"
      },
      "execution_count": 23,
      "outputs": [
        {
          "output_type": "execute_result",
          "data": {
            "text/plain": [
              "[2, 34, 5.97, True, 'abcd']"
            ]
          },
          "metadata": {},
          "execution_count": 23
        }
      ]
    },
    {
      "cell_type": "code",
      "source": [
        "type(l1[4])"
      ],
      "metadata": {
        "colab": {
          "base_uri": "https://localhost:8080/"
        },
        "id": "xMEbykc5uDSB",
        "outputId": "26dc755a-56c2-46f6-ad7a-78369d97c491"
      },
      "execution_count": 24,
      "outputs": [
        {
          "output_type": "execute_result",
          "data": {
            "text/plain": [
              "str"
            ]
          },
          "metadata": {},
          "execution_count": 24
        }
      ]
    },
    {
      "cell_type": "code",
      "source": [
        "type(l1[2])"
      ],
      "metadata": {
        "colab": {
          "base_uri": "https://localhost:8080/"
        },
        "id": "LwypgbEtuKG2",
        "outputId": "aa140172-f939-40a4-9c6d-764e814aef00"
      },
      "execution_count": 25,
      "outputs": [
        {
          "output_type": "execute_result",
          "data": {
            "text/plain": [
              "float"
            ]
          },
          "metadata": {},
          "execution_count": 25
        }
      ]
    },
    {
      "cell_type": "code",
      "source": [
        "l1.append(\"False\")\n",
        "l1"
      ],
      "metadata": {
        "id": "Do1R3XMUuPOx"
      },
      "execution_count": 26,
      "outputs": []
    },
    {
      "cell_type": "code",
      "source": [
        "l1.pop()"
      ],
      "metadata": {
        "colab": {
          "base_uri": "https://localhost:8080/",
          "height": 35
        },
        "id": "9wp3lO16uSa8",
        "outputId": "fdf9672a-579f-404e-d51f-581a9bc4a41b"
      },
      "execution_count": 28,
      "outputs": [
        {
          "output_type": "execute_result",
          "data": {
            "text/plain": [
              "'False'"
            ],
            "application/vnd.google.colaboratory.intrinsic+json": {
              "type": "string"
            }
          },
          "metadata": {},
          "execution_count": 28
        }
      ]
    },
    {
      "cell_type": "code",
      "source": [
        "l1"
      ],
      "metadata": {
        "colab": {
          "base_uri": "https://localhost:8080/"
        },
        "id": "IgD8BM9xuuNL",
        "outputId": "4d6c77ba-b6a9-4b35-c76b-eae4f3b81f5d"
      },
      "execution_count": 29,
      "outputs": [
        {
          "output_type": "execute_result",
          "data": {
            "text/plain": [
              "[2, 34, 5.97, True, 'abcd']"
            ]
          },
          "metadata": {},
          "execution_count": 29
        }
      ]
    },
    {
      "cell_type": "code",
      "source": [
        "l1.reverse()\n",
        "l1"
      ],
      "metadata": {
        "colab": {
          "base_uri": "https://localhost:8080/"
        },
        "id": "pnX7stuEuyX6",
        "outputId": "c96fade0-4bc6-4860-dad7-74404914274f"
      },
      "execution_count": 32,
      "outputs": [
        {
          "output_type": "execute_result",
          "data": {
            "text/plain": [
              "['abcd', True, 5.97, 34, 2]"
            ]
          },
          "metadata": {},
          "execution_count": 32
        }
      ]
    },
    {
      "cell_type": "code",
      "source": [
        "l1.insert(1,\"lion\")\n",
        "l1"
      ],
      "metadata": {
        "colab": {
          "base_uri": "https://localhost:8080/"
        },
        "id": "iYrRT9TIu2dW",
        "outputId": "469422ba-21e2-4d7b-e32c-bb385c53f2e9"
      },
      "execution_count": 35,
      "outputs": [
        {
          "output_type": "execute_result",
          "data": {
            "text/plain": [
              "['abcd', 'lion', 'lion', True, 5.97, 34, 2]"
            ]
          },
          "metadata": {},
          "execution_count": 35
        }
      ]
    },
    {
      "cell_type": "code",
      "source": [
        "fruits=['mango','banana','lichi','orange']\n",
        "fruits.sort()\n",
        "fruits"
      ],
      "metadata": {
        "colab": {
          "base_uri": "https://localhost:8080/"
        },
        "id": "MBVvP9usvC3G",
        "outputId": "0e7bb810-a8b4-4481-9f69-72bd6a13d79d"
      },
      "execution_count": 38,
      "outputs": [
        {
          "output_type": "execute_result",
          "data": {
            "text/plain": [
              "['banana', 'lichi', 'mango', 'orange']"
            ]
          },
          "metadata": {},
          "execution_count": 38
        }
      ]
    },
    {
      "cell_type": "code",
      "source": [
        "fruits+l1"
      ],
      "metadata": {
        "colab": {
          "base_uri": "https://localhost:8080/"
        },
        "id": "ZKz1QgPovpZ5",
        "outputId": "db5c33e2-b853-48c9-ef67-7ed7ae1c4914"
      },
      "execution_count": 39,
      "outputs": [
        {
          "output_type": "execute_result",
          "data": {
            "text/plain": [
              "['banana',\n",
              " 'lichi',\n",
              " 'mango',\n",
              " 'orange',\n",
              " 'abcd',\n",
              " 'lion',\n",
              " 'lion',\n",
              " True,\n",
              " 5.97,\n",
              " 34,\n",
              " 2]"
            ]
          },
          "metadata": {},
          "execution_count": 39
        }
      ]
    },
    {
      "cell_type": "code",
      "source": [
        "fruits*3"
      ],
      "metadata": {
        "colab": {
          "base_uri": "https://localhost:8080/"
        },
        "id": "JRxUIikbwBNO",
        "outputId": "d4116907-d426-4ff3-a6b1-4e3b39688f93"
      },
      "execution_count": 42,
      "outputs": [
        {
          "output_type": "execute_result",
          "data": {
            "text/plain": [
              "['banana',\n",
              " 'lichi',\n",
              " 'mango',\n",
              " 'orange',\n",
              " 'banana',\n",
              " 'lichi',\n",
              " 'mango',\n",
              " 'orange',\n",
              " 'banana',\n",
              " 'lichi',\n",
              " 'mango',\n",
              " 'orange']"
            ]
          },
          "metadata": {},
          "execution_count": 42
        }
      ]
    },
    {
      "cell_type": "code",
      "source": [],
      "metadata": {
        "id": "NoVhLwDfxL5r"
      },
      "execution_count": null,
      "outputs": []
    },
    {
      "cell_type": "code",
      "source": [],
      "metadata": {
        "id": "LfmhduBWxLw7"
      },
      "execution_count": null,
      "outputs": []
    },
    {
      "cell_type": "code",
      "source": [
        "# TUPLES\n",
        "# are non-muttable"
      ],
      "metadata": {
        "id": "4CoDqj-qwMNM"
      },
      "execution_count": 45,
      "outputs": []
    },
    {
      "cell_type": "code",
      "source": [
        "t1=(\"python\", 3 , 4.0 , 3 , [1,2,3,\"lohan\"])\n",
        "t1"
      ],
      "metadata": {
        "colab": {
          "base_uri": "https://localhost:8080/"
        },
        "id": "ZEH1flz256Al",
        "outputId": "98de467f-0816-4dc8-cf24-8a438fd5ea5e"
      },
      "execution_count": 58,
      "outputs": [
        {
          "output_type": "execute_result",
          "data": {
            "text/plain": [
              "('python', 3, 4.0, 3, [1, 2, 3, 'lohan'])"
            ]
          },
          "metadata": {},
          "execution_count": 58
        }
      ]
    },
    {
      "cell_type": "code",
      "source": [
        "t1[2]"
      ],
      "metadata": {
        "colab": {
          "base_uri": "https://localhost:8080/"
        },
        "id": "wp9ZZ1rE69eK",
        "outputId": "c60c6cb3-1891-415a-ba9e-49060a47d1aa"
      },
      "execution_count": 59,
      "outputs": [
        {
          "output_type": "execute_result",
          "data": {
            "text/plain": [
              "4.0"
            ]
          },
          "metadata": {},
          "execution_count": 59
        }
      ]
    },
    {
      "cell_type": "code",
      "source": [
        "t1[4]"
      ],
      "metadata": {
        "colab": {
          "base_uri": "https://localhost:8080/"
        },
        "id": "Vwnz_ken69IM",
        "outputId": "b3efe01a-115e-4a62-c755-5346d6c991fd"
      },
      "execution_count": 60,
      "outputs": [
        {
          "output_type": "execute_result",
          "data": {
            "text/plain": [
              "[1, 2, 3, 'lohan']"
            ]
          },
          "metadata": {},
          "execution_count": 60
        }
      ]
    },
    {
      "cell_type": "code",
      "source": [],
      "metadata": {
        "id": "Lys8wnV76O04"
      },
      "execution_count": 57,
      "outputs": []
    },
    {
      "cell_type": "code",
      "source": [],
      "metadata": {
        "id": "VV24VMEu6OlA"
      },
      "execution_count": 53,
      "outputs": []
    },
    {
      "cell_type": "code",
      "source": [
        "# SETS\n",
        "# cannot have same values and are unorganized"
      ],
      "metadata": {
        "id": "zgxo2U9E6GFM"
      },
      "execution_count": 52,
      "outputs": []
    },
    {
      "cell_type": "code",
      "source": [
        "s1={2,\"lohan\", 2, \"lohan\" , 38}\n",
        "s1"
      ],
      "metadata": {
        "colab": {
          "base_uri": "https://localhost:8080/"
        },
        "id": "vwrRsujG6Qbn",
        "outputId": "1bb4cf77-7e1e-446d-ac18-c80e17b04e40"
      },
      "execution_count": 71,
      "outputs": [
        {
          "output_type": "execute_result",
          "data": {
            "text/plain": [
              "{2, 38, 'lohan'}"
            ]
          },
          "metadata": {},
          "execution_count": 71
        }
      ]
    },
    {
      "cell_type": "code",
      "source": [
        "s1.add(4.5)\n",
        "s1"
      ],
      "metadata": {
        "colab": {
          "base_uri": "https://localhost:8080/"
        },
        "id": "Bc_1Kp7o7mH8",
        "outputId": "3da56246-ba54-412c-d5d5-6fd41c2687ca"
      },
      "execution_count": 72,
      "outputs": [
        {
          "output_type": "execute_result",
          "data": {
            "text/plain": [
              "{2, 38, 4.5, 'lohan'}"
            ]
          },
          "metadata": {},
          "execution_count": 72
        }
      ]
    },
    {
      "cell_type": "code",
      "source": [
        "s1.update([\"hello\", 2 , True])\n",
        "s1"
      ],
      "metadata": {
        "colab": {
          "base_uri": "https://localhost:8080/"
        },
        "id": "bwexTcoX8D3r",
        "outputId": "c4c463a4-b13f-4011-c70c-3f6abaf9af9b"
      },
      "execution_count": 73,
      "outputs": [
        {
          "output_type": "execute_result",
          "data": {
            "text/plain": [
              "{2, 38, 4.5, True, 'hello', 'lohan'}"
            ]
          },
          "metadata": {},
          "execution_count": 73
        }
      ]
    },
    {
      "cell_type": "code",
      "source": [
        "s1.remove(38)\n",
        "s1"
      ],
      "metadata": {
        "colab": {
          "base_uri": "https://localhost:8080/"
        },
        "id": "9DrPU4cm8Npt",
        "outputId": "1e5d1c3d-a0d6-4e1c-b977-af58e9828691"
      },
      "execution_count": 74,
      "outputs": [
        {
          "output_type": "execute_result",
          "data": {
            "text/plain": [
              "{2, 4.5, True, 'hello', 'lohan'}"
            ]
          },
          "metadata": {},
          "execution_count": 74
        }
      ]
    },
    {
      "cell_type": "code",
      "source": [
        "s2={False, 51, 9, True, \"lohan\"}\n",
        "s1.union(s2)"
      ],
      "metadata": {
        "colab": {
          "base_uri": "https://localhost:8080/"
        },
        "id": "N2dmkvf_87RV",
        "outputId": "7cb519e4-eccc-4429-d7ac-f3150c7af049"
      },
      "execution_count": 78,
      "outputs": [
        {
          "output_type": "execute_result",
          "data": {
            "text/plain": [
              "{2, 4.5, 51, 9, False, True, 'hello', 'lohan'}"
            ]
          },
          "metadata": {},
          "execution_count": 78
        }
      ]
    },
    {
      "cell_type": "code",
      "source": [
        "s1.intersection(s2)"
      ],
      "metadata": {
        "colab": {
          "base_uri": "https://localhost:8080/"
        },
        "id": "fwZZ0nWN87FY",
        "outputId": "832deecb-a7ac-4617-fb1c-d620e118bb20"
      },
      "execution_count": 79,
      "outputs": [
        {
          "output_type": "execute_result",
          "data": {
            "text/plain": [
              "{True, 'lohan'}"
            ]
          },
          "metadata": {},
          "execution_count": 79
        }
      ]
    },
    {
      "cell_type": "code",
      "source": [],
      "metadata": {
        "id": "1lMP_H1D84wj"
      },
      "execution_count": null,
      "outputs": []
    },
    {
      "cell_type": "code",
      "source": [],
      "metadata": {
        "id": "YPIQ2pqz84nm"
      },
      "execution_count": null,
      "outputs": []
    },
    {
      "cell_type": "code",
      "source": [
        "# DICTIONARY"
      ],
      "metadata": {
        "id": "Of35qd4k8YBS"
      },
      "execution_count": 80,
      "outputs": []
    },
    {
      "cell_type": "code",
      "source": [
        "d1={1:\"rohan\" , 2:\"lita\" , \"loko\":3 , \"gahan\":5 , \"humess\":6}\n",
        "d1"
      ],
      "metadata": {
        "colab": {
          "base_uri": "https://localhost:8080/"
        },
        "id": "x3ZXY4Rc9x2H",
        "outputId": "ad0ae3a9-06af-4ea1-9ac4-2b32d59d810d"
      },
      "execution_count": 4,
      "outputs": [
        {
          "output_type": "execute_result",
          "data": {
            "text/plain": [
              "{1: 'rohan', 2: 'lita', 'loko': 3, 'gahan': 5, 'humess': 6}"
            ]
          },
          "metadata": {},
          "execution_count": 4
        }
      ]
    },
    {
      "cell_type": "code",
      "source": [
        "d1[2]"
      ],
      "metadata": {
        "colab": {
          "base_uri": "https://localhost:8080/",
          "height": 35
        },
        "id": "6ECNWRU2-LTa",
        "outputId": "8d3c1d3c-d2ee-409f-9eac-07c08df31858"
      },
      "execution_count": 5,
      "outputs": [
        {
          "output_type": "execute_result",
          "data": {
            "text/plain": [
              "'lita'"
            ],
            "application/vnd.google.colaboratory.intrinsic+json": {
              "type": "string"
            }
          },
          "metadata": {},
          "execution_count": 5
        }
      ]
    },
    {
      "cell_type": "code",
      "source": [
        "d1[\"loko\"]"
      ],
      "metadata": {
        "colab": {
          "base_uri": "https://localhost:8080/"
        },
        "id": "LL43ZMwP-O_5",
        "outputId": "f7a5b92e-1397-4432-c69f-2a14a2deaa02"
      },
      "execution_count": 6,
      "outputs": [
        {
          "output_type": "execute_result",
          "data": {
            "text/plain": [
              "3"
            ]
          },
          "metadata": {},
          "execution_count": 6
        }
      ]
    },
    {
      "cell_type": "code",
      "source": [
        "d1.pop(\"gahan\")\n",
        "\n",
        "# OR\n",
        "\n",
        "del d1[1]"
      ],
      "metadata": {
        "id": "Yy5fPtY3AVnY"
      },
      "execution_count": 7,
      "outputs": []
    },
    {
      "cell_type": "code",
      "source": [
        "d1"
      ],
      "metadata": {
        "colab": {
          "base_uri": "https://localhost:8080/"
        },
        "id": "xMMgxZfB-RfO",
        "outputId": "fc61f73a-82d5-480b-b86e-0526b4afbe71"
      },
      "execution_count": 8,
      "outputs": [
        {
          "output_type": "execute_result",
          "data": {
            "text/plain": [
              "{2: 'lita', 'loko': 3, 'humess': 6}"
            ]
          },
          "metadata": {},
          "execution_count": 8
        }
      ]
    },
    {
      "cell_type": "code",
      "source": [
        "d1.popitem()"
      ],
      "metadata": {
        "colab": {
          "base_uri": "https://localhost:8080/"
        },
        "id": "lhSEaO6l_jYt",
        "outputId": "e48c2997-448c-462f-a169-9c9297b373e0"
      },
      "execution_count": 9,
      "outputs": [
        {
          "output_type": "execute_result",
          "data": {
            "text/plain": [
              "('humess', 6)"
            ]
          },
          "metadata": {},
          "execution_count": 9
        }
      ]
    },
    {
      "cell_type": "code",
      "source": [
        "d1"
      ],
      "metadata": {
        "colab": {
          "base_uri": "https://localhost:8080/"
        },
        "id": "pXBkx5GI_zdr",
        "outputId": "50d58d00-8ce1-47c9-9ae2-72e2be12929c"
      },
      "execution_count": 10,
      "outputs": [
        {
          "output_type": "execute_result",
          "data": {
            "text/plain": [
              "{2: 'lita', 'loko': 3}"
            ]
          },
          "metadata": {},
          "execution_count": 10
        }
      ]
    },
    {
      "cell_type": "code",
      "source": [
        "d1.clear()\n",
        "d1"
      ],
      "metadata": {
        "colab": {
          "base_uri": "https://localhost:8080/"
        },
        "id": "A1hqA0UeFGo9",
        "outputId": "84978234-c0ce-4485-87bd-bbc11636a42e"
      },
      "execution_count": 11,
      "outputs": [
        {
          "output_type": "execute_result",
          "data": {
            "text/plain": [
              "{}"
            ]
          },
          "metadata": {},
          "execution_count": 11
        }
      ]
    },
    {
      "cell_type": "code",
      "source": [
        "d1={1:\"rohan\" , 2:\"lita\" , \"loko\":3 , \"gahan\":5 , \"humess\":6}\n",
        "d2=d1.copy()\n",
        "d2"
      ],
      "metadata": {
        "colab": {
          "base_uri": "https://localhost:8080/"
        },
        "id": "ZrPPifRSFaSQ",
        "outputId": "a48fe229-16ae-42dd-ee75-0a93595b4b23"
      },
      "execution_count": 12,
      "outputs": [
        {
          "output_type": "execute_result",
          "data": {
            "text/plain": [
              "{1: 'rohan', 2: 'lita', 'loko': 3, 'gahan': 5, 'humess': 6}"
            ]
          },
          "metadata": {},
          "execution_count": 12
        }
      ]
    },
    {
      "cell_type": "code",
      "source": [
        "d3={1:2018 , 4:2020 , 2:2009 , 3:2015 , 0:2002}\n",
        "sorted(d3)"
      ],
      "metadata": {
        "colab": {
          "base_uri": "https://localhost:8080/"
        },
        "id": "McFBUu6RFcVQ",
        "outputId": "5a441e1c-9d42-4b66-867e-db79b7646f76"
      },
      "execution_count": 17,
      "outputs": [
        {
          "output_type": "execute_result",
          "data": {
            "text/plain": [
              "[0, 1, 2, 3, 4]"
            ]
          },
          "metadata": {},
          "execution_count": 17
        }
      ]
    },
    {
      "cell_type": "code",
      "source": [
        "d2.update({4:\"hello\"})\n",
        "d2"
      ],
      "metadata": {
        "colab": {
          "base_uri": "https://localhost:8080/"
        },
        "id": "qTdzIy17FcR4",
        "outputId": "7a08b610-ff98-4116-ed0c-34301b0f9aba"
      },
      "execution_count": 14,
      "outputs": [
        {
          "output_type": "execute_result",
          "data": {
            "text/plain": [
              "{1: 'rohan', 2: 'lita', 'loko': 3, 'gahan': 5, 'humess': 6, 4: 'hello'}"
            ]
          },
          "metadata": {},
          "execution_count": 14
        }
      ]
    },
    {
      "cell_type": "code",
      "source": [],
      "metadata": {
        "id": "9k7dBz9FFcOY"
      },
      "execution_count": 13,
      "outputs": []
    },
    {
      "cell_type": "code",
      "source": [],
      "metadata": {
        "id": "0DUzp1IRAOrK"
      },
      "execution_count": 13,
      "outputs": []
    }
  ]
}