{
  "nbformat": 4,
  "nbformat_minor": 0,
  "metadata": {
    "colab": {
      "provenance": [],
      "authorship_tag": "ABX9TyPC8tYBVZbK7m8mXhqnW/6N",
      "include_colab_link": true
    },
    "kernelspec": {
      "name": "python3",
      "display_name": "Python 3"
    },
    "language_info": {
      "name": "python"
    }
  },
  "cells": [
    {
      "cell_type": "markdown",
      "metadata": {
        "id": "view-in-github",
        "colab_type": "text"
      },
      "source": [
        "<a href=\"https://colab.research.google.com/github/tusharmaurya267/Python_basic/blob/main/Basics.ipynb\" target=\"_parent\"><img src=\"https://colab.research.google.com/assets/colab-badge.svg\" alt=\"Open In Colab\"/></a>"
      ]
    },
    {
      "cell_type": "code",
      "execution_count": 13,
      "metadata": {
        "id": "6WiB6qZXSfN0",
        "colab": {
          "base_uri": "https://localhost:8080/"
        },
        "outputId": "e771d0e9-2e8f-46a2-fe61-23b8d469469a"
      },
      "outputs": [
        {
          "output_type": "execute_result",
          "data": {
            "text/plain": [
              "int"
            ]
          },
          "metadata": {},
          "execution_count": 13
        }
      ],
      "source": [
        "a=5\n",
        "type(a)"
      ]
    },
    {
      "cell_type": "code",
      "source": [
        "b=\"this is\"\n",
        "type(b)"
      ],
      "metadata": {
        "colab": {
          "base_uri": "https://localhost:8080/"
        },
        "id": "J_2MzxEVxOII",
        "outputId": "8666d4fa-8f2c-4361-a2c6-53cefce14b27"
      },
      "execution_count": 11,
      "outputs": [
        {
          "output_type": "execute_result",
          "data": {
            "text/plain": [
              "str"
            ]
          },
          "metadata": {},
          "execution_count": 11
        }
      ]
    },
    {
      "cell_type": "code",
      "source": [
        "c=8.9\n",
        "type(c)"
      ],
      "metadata": {
        "colab": {
          "base_uri": "https://localhost:8080/"
        },
        "id": "ESZgsJ0Pxakt",
        "outputId": "8f8bb320-cb4f-49e9-f0b7-2577ad89ae6b"
      },
      "execution_count": 12,
      "outputs": [
        {
          "output_type": "execute_result",
          "data": {
            "text/plain": [
              "float"
            ]
          },
          "metadata": {},
          "execution_count": 12
        }
      ]
    },
    {
      "cell_type": "code",
      "source": [
        "d=False\n",
        "type(d)"
      ],
      "metadata": {
        "colab": {
          "base_uri": "https://localhost:8080/"
        },
        "id": "VH3fTPUNxR-e",
        "outputId": "f9ca9f44-e7ac-425c-dfef-f35128efd74f"
      },
      "execution_count": 8,
      "outputs": [
        {
          "output_type": "execute_result",
          "data": {
            "text/plain": [
              "bool"
            ]
          },
          "metadata": {},
          "execution_count": 8
        }
      ]
    },
    {
      "cell_type": "code",
      "source": [
        "com=3+5j\n",
        "type(com)"
      ],
      "metadata": {
        "colab": {
          "base_uri": "https://localhost:8080/"
        },
        "id": "_PzYn0TRxTN7",
        "outputId": "54952409-33d4-4eaf-9eda-5b16b5655aef"
      },
      "execution_count": 10,
      "outputs": [
        {
          "output_type": "execute_result",
          "data": {
            "text/plain": [
              "complex"
            ]
          },
          "metadata": {},
          "execution_count": 10
        }
      ]
    },
    {
      "cell_type": "code",
      "source": [],
      "metadata": {
        "id": "v_Eo_CsoMEBp"
      },
      "execution_count": null,
      "outputs": []
    },
    {
      "cell_type": "code",
      "source": [],
      "metadata": {
        "id": "YqKeXlqtME_Z"
      },
      "execution_count": null,
      "outputs": []
    },
    {
      "cell_type": "code",
      "source": [
        "# STRING"
      ],
      "metadata": {
        "id": "SWYXAosAxVyT"
      },
      "execution_count": 1,
      "outputs": []
    },
    {
      "cell_type": "code",
      "source": [
        "str1=\"This is John Pandya. Say Hi\"\n",
        "str1"
      ],
      "metadata": {
        "colab": {
          "base_uri": "https://localhost:8080/",
          "height": 35
        },
        "id": "Jg2Q9npALy_M",
        "outputId": "92126502-9ed3-4dac-c1b0-86ec67972534"
      },
      "execution_count": 2,
      "outputs": [
        {
          "output_type": "execute_result",
          "data": {
            "text/plain": [
              "'This is John Pandya. Say Hi'"
            ],
            "application/vnd.google.colaboratory.intrinsic+json": {
              "type": "string"
            }
          },
          "metadata": {},
          "execution_count": 2
        }
      ]
    },
    {
      "cell_type": "code",
      "source": [
        "str1[5]"
      ],
      "metadata": {
        "colab": {
          "base_uri": "https://localhost:8080/",
          "height": 35
        },
        "id": "RirAWjDGMBNs",
        "outputId": "815ec688-e2bb-4495-e16d-8c5b5845383f"
      },
      "execution_count": 4,
      "outputs": [
        {
          "output_type": "execute_result",
          "data": {
            "text/plain": [
              "'i'"
            ],
            "application/vnd.google.colaboratory.intrinsic+json": {
              "type": "string"
            }
          },
          "metadata": {},
          "execution_count": 4
        }
      ]
    },
    {
      "cell_type": "code",
      "source": [
        "str1[1:4]"
      ],
      "metadata": {
        "colab": {
          "base_uri": "https://localhost:8080/",
          "height": 35
        },
        "id": "dxcxhL0lMis5",
        "outputId": "263394be-22d6-4a31-e630-7d858f77ef98"
      },
      "execution_count": 5,
      "outputs": [
        {
          "output_type": "execute_result",
          "data": {
            "text/plain": [
              "'his'"
            ],
            "application/vnd.google.colaboratory.intrinsic+json": {
              "type": "string"
            }
          },
          "metadata": {},
          "execution_count": 5
        }
      ]
    },
    {
      "cell_type": "code",
      "source": [
        "str1[-3:]\n"
      ],
      "metadata": {
        "colab": {
          "base_uri": "https://localhost:8080/",
          "height": 35
        },
        "id": "ZaQViW3dMpYx",
        "outputId": "241207fb-1d55-4adf-eef6-d3b923604c8d"
      },
      "execution_count": 6,
      "outputs": [
        {
          "output_type": "execute_result",
          "data": {
            "text/plain": [
              "' Hi'"
            ],
            "application/vnd.google.colaboratory.intrinsic+json": {
              "type": "string"
            }
          },
          "metadata": {},
          "execution_count": 6
        }
      ]
    },
    {
      "cell_type": "code",
      "source": [
        "len(str1)"
      ],
      "metadata": {
        "colab": {
          "base_uri": "https://localhost:8080/"
        },
        "id": "jg2-PJimMwan",
        "outputId": "d9068054-42c5-4f20-dc0f-ac0a6cccb3ee"
      },
      "execution_count": 7,
      "outputs": [
        {
          "output_type": "execute_result",
          "data": {
            "text/plain": [
              "27"
            ]
          },
          "metadata": {},
          "execution_count": 7
        }
      ]
    },
    {
      "cell_type": "code",
      "source": [
        "str1.lower()"
      ],
      "metadata": {
        "colab": {
          "base_uri": "https://localhost:8080/",
          "height": 35
        },
        "id": "Vwdu4CfeNLwG",
        "outputId": "843be3cd-f8d9-46c5-eac2-8652ab677c83"
      },
      "execution_count": 8,
      "outputs": [
        {
          "output_type": "execute_result",
          "data": {
            "text/plain": [
              "'this is john pandya. say hi'"
            ],
            "application/vnd.google.colaboratory.intrinsic+json": {
              "type": "string"
            }
          },
          "metadata": {},
          "execution_count": 8
        }
      ]
    },
    {
      "cell_type": "code",
      "source": [
        "str1.upper()"
      ],
      "metadata": {
        "colab": {
          "base_uri": "https://localhost:8080/",
          "height": 35
        },
        "id": "I0Fab9kENNt4",
        "outputId": "04c2fd42-3f35-4a5d-b6f8-a385bd479dc3"
      },
      "execution_count": 9,
      "outputs": [
        {
          "output_type": "execute_result",
          "data": {
            "text/plain": [
              "'THIS IS JOHN PANDYA. SAY HI'"
            ],
            "application/vnd.google.colaboratory.intrinsic+json": {
              "type": "string"
            }
          },
          "metadata": {},
          "execution_count": 9
        }
      ]
    },
    {
      "cell_type": "code",
      "source": [
        "str1.replace('n','a')"
      ],
      "metadata": {
        "colab": {
          "base_uri": "https://localhost:8080/",
          "height": 35
        },
        "id": "ddA1fm4PNQfe",
        "outputId": "63428465-44c3-4435-af2b-8f9466712005"
      },
      "execution_count": 11,
      "outputs": [
        {
          "output_type": "execute_result",
          "data": {
            "text/plain": [
              "'This is Joha Paadya. Say Hi'"
            ],
            "application/vnd.google.colaboratory.intrinsic+json": {
              "type": "string"
            }
          },
          "metadata": {},
          "execution_count": 11
        }
      ]
    },
    {
      "cell_type": "code",
      "source": [
        "str2=\"hello, how are you John. Hi, Tata how are you.\"\n",
        "str2.count(\"how\")"
      ],
      "metadata": {
        "id": "iG0gq2Isb027",
        "outputId": "9d7e4ef2-8a04-4fb5-f1a0-c518824ba7f6",
        "colab": {
          "base_uri": "https://localhost:8080/"
        }
      },
      "execution_count": 1,
      "outputs": [
        {
          "output_type": "execute_result",
          "data": {
            "text/plain": [
              "2"
            ]
          },
          "metadata": {},
          "execution_count": 1
        }
      ]
    },
    {
      "cell_type": "code",
      "source": [
        "str2.find(\"are\")"
      ],
      "metadata": {
        "id": "p00wMKIbiJil",
        "outputId": "1a611845-b6a9-42a4-d233-455b60361eb4",
        "colab": {
          "base_uri": "https://localhost:8080/"
        }
      },
      "execution_count": 2,
      "outputs": [
        {
          "output_type": "execute_result",
          "data": {
            "text/plain": [
              "11"
            ]
          },
          "metadata": {},
          "execution_count": 2
        }
      ]
    },
    {
      "cell_type": "code",
      "source": [
        "str2.split('.')"
      ],
      "metadata": {
        "id": "PJ76-qStif41",
        "outputId": "45daf15c-1d4e-43d2-b106-048f06bb4374",
        "colab": {
          "base_uri": "https://localhost:8080/"
        }
      },
      "execution_count": 5,
      "outputs": [
        {
          "output_type": "execute_result",
          "data": {
            "text/plain": [
              "['hello, how are you John', ' Hi, Tata how are you', '']"
            ]
          },
          "metadata": {},
          "execution_count": 5
        }
      ]
    },
    {
      "cell_type": "code",
      "source": [
        "int(c)"
      ],
      "metadata": {
        "id": "wcRLn40cilP4",
        "outputId": "1ed3364a-0dd7-4f32-a3df-f3d38ca49f61",
        "colab": {
          "base_uri": "https://localhost:8080/"
        }
      },
      "execution_count": 9,
      "outputs": [
        {
          "output_type": "execute_result",
          "data": {
            "text/plain": [
              "8"
            ]
          },
          "metadata": {},
          "execution_count": 9
        }
      ]
    },
    {
      "cell_type": "code",
      "source": [
        "float(a)"
      ],
      "metadata": {
        "id": "2ZlpRQk_kBxB",
        "outputId": "0c642241-6d3b-4621-81ff-ad3e44443143",
        "colab": {
          "base_uri": "https://localhost:8080/"
        }
      },
      "execution_count": 15,
      "outputs": [
        {
          "output_type": "execute_result",
          "data": {
            "text/plain": [
              "5.0"
            ]
          },
          "metadata": {},
          "execution_count": 15
        }
      ]
    },
    {
      "cell_type": "code",
      "source": [],
      "metadata": {
        "id": "D90H_T4f7pOY"
      },
      "execution_count": null,
      "outputs": []
    },
    {
      "cell_type": "code",
      "source": [],
      "metadata": {
        "id": "S7OarxbR7pCd"
      },
      "execution_count": null,
      "outputs": []
    },
    {
      "cell_type": "code",
      "source": [
        "# INPUT"
      ],
      "metadata": {
        "id": "VVpaMJjukMbh"
      },
      "execution_count": 16,
      "outputs": []
    },
    {
      "cell_type": "code",
      "source": [
        "a=int(input(\"Enter the number:  \"))"
      ],
      "metadata": {
        "id": "VMMrHILx7tX_",
        "outputId": "94eb2750-f1fe-44a6-940e-318d841d1b23",
        "colab": {
          "base_uri": "https://localhost:8080/"
        }
      },
      "execution_count": 22,
      "outputs": [
        {
          "name": "stdout",
          "output_type": "stream",
          "text": [
            "Enter the number:  5\n"
          ]
        }
      ]
    },
    {
      "cell_type": "code",
      "source": [
        "b=float(input())"
      ],
      "metadata": {
        "id": "GeNdA-ZP7wM5",
        "outputId": "a7489c4a-9952-4155-fef5-c973daf1ca62",
        "colab": {
          "base_uri": "https://localhost:8080/"
        }
      },
      "execution_count": 18,
      "outputs": [
        {
          "name": "stdout",
          "output_type": "stream",
          "text": [
            "3\n"
          ]
        }
      ]
    },
    {
      "cell_type": "code",
      "source": [
        "c=input()"
      ],
      "metadata": {
        "id": "mC2lAFn770EA",
        "outputId": "90681cc1-c0ae-40a3-bf30-b34b47e4a77e",
        "colab": {
          "base_uri": "https://localhost:8080/"
        }
      },
      "execution_count": 21,
      "outputs": [
        {
          "name": "stdout",
          "output_type": "stream",
          "text": [
            "hello everyone\n"
          ]
        }
      ]
    },
    {
      "cell_type": "code",
      "source": [],
      "metadata": {
        "id": "dyY6VntOAJuZ"
      },
      "execution_count": null,
      "outputs": []
    },
    {
      "cell_type": "code",
      "source": [],
      "metadata": {
        "id": "Pw8fbLWJAJis"
      },
      "execution_count": null,
      "outputs": []
    },
    {
      "cell_type": "code",
      "source": [
        "# LOOP"
      ],
      "metadata": {
        "id": "1yMe5WTV74OV"
      },
      "execution_count": 23,
      "outputs": []
    },
    {
      "cell_type": "code",
      "source": [
        "list(range(13))"
      ],
      "metadata": {
        "id": "Ff6JUFyHALI4",
        "outputId": "8eef0bef-a196-40d5-c15f-7b96442e8d69",
        "colab": {
          "base_uri": "https://localhost:8080/"
        }
      },
      "execution_count": 25,
      "outputs": [
        {
          "output_type": "execute_result",
          "data": {
            "text/plain": [
              "[0, 1, 2, 3, 4, 5, 6, 7, 8, 9, 10, 11, 12]"
            ]
          },
          "metadata": {},
          "execution_count": 25
        }
      ]
    },
    {
      "cell_type": "code",
      "source": [
        "list(range(2,13))"
      ],
      "metadata": {
        "id": "vilzOdTYAR8a",
        "outputId": "423f4c3b-8dd1-48c1-c99c-a859721bbe59",
        "colab": {
          "base_uri": "https://localhost:8080/"
        }
      },
      "execution_count": 26,
      "outputs": [
        {
          "output_type": "execute_result",
          "data": {
            "text/plain": [
              "[2, 3, 4, 5, 6, 7, 8, 9, 10, 11, 12]"
            ]
          },
          "metadata": {},
          "execution_count": 26
        }
      ]
    },
    {
      "cell_type": "code",
      "source": [
        "list(range(2,13,3))"
      ],
      "metadata": {
        "id": "Bbtgke-dAaUv",
        "outputId": "a98c8944-0471-45c6-8baf-079c9e11015c",
        "colab": {
          "base_uri": "https://localhost:8080/"
        }
      },
      "execution_count": 27,
      "outputs": [
        {
          "output_type": "execute_result",
          "data": {
            "text/plain": [
              "[2, 5, 8, 11]"
            ]
          },
          "metadata": {},
          "execution_count": 27
        }
      ]
    },
    {
      "cell_type": "code",
      "source": [
        "n=int(input(\"Enter range: \"))\n",
        "j=int(input(\"Enter start: \"))\n",
        "step=int(input(\"Enter steps: \"))\n",
        "for i in range(j,n,step):\n",
        "  print(i)"
      ],
      "metadata": {
        "id": "QK9BEZTLAdWE",
        "outputId": "fe6c05f1-b6db-444c-ae98-0813300406b8",
        "colab": {
          "base_uri": "https://localhost:8080/"
        }
      },
      "execution_count": 29,
      "outputs": [
        {
          "output_type": "stream",
          "name": "stdout",
          "text": [
            "Enter range: 30\n",
            "Enter start: 2\n",
            "Enter steps: 4\n",
            "2\n",
            "6\n",
            "10\n",
            "14\n",
            "18\n",
            "22\n",
            "26\n"
          ]
        }
      ]
    },
    {
      "cell_type": "code",
      "source": [
        "fruits=['mango','banana','lichi','orange']\n",
        "n=len(fruits)\n",
        "\n",
        "for i in range(n):\n",
        "  print(i,\"This is\" ,fruits[i])"
      ],
      "metadata": {
        "id": "KztIcMI1Ai2a",
        "outputId": "5ecfa871-fccf-4cf2-e78c-fa056c35e18b",
        "colab": {
          "base_uri": "https://localhost:8080/"
        }
      },
      "execution_count": 33,
      "outputs": [
        {
          "output_type": "stream",
          "name": "stdout",
          "text": [
            "0 This is mango\n",
            "1 This is banana\n",
            "2 This is lichi\n",
            "3 This is orange\n"
          ]
        }
      ]
    },
    {
      "cell_type": "code",
      "source": [
        "fruits=['mango','banana','lichi','orange']\n",
        "veges=['potato','bhindi','onion','brinjal']\n",
        "n_f=len(fruits)\n",
        "n_v=len(veges)\n",
        "for i in fruits:\n",
        "  for j in veges:\n",
        "    print(i, \"looks good with\" , j)\n",
        "\n",
        "print('\\n \\n')\n",
        "for i in range(n_f):\n",
        "  for j in range(n_v):\n",
        "    print(fruits[i], \"looks good with\" , veges[j])"
      ],
      "metadata": {
        "id": "N-u6OnTaBdw6",
        "outputId": "38e4ca1f-8190-468c-95b0-1b4d5dffc5f4",
        "colab": {
          "base_uri": "https://localhost:8080/"
        }
      },
      "execution_count": 39,
      "outputs": [
        {
          "output_type": "stream",
          "name": "stdout",
          "text": [
            "mango looks good with potato\n",
            "mango looks good with bhindi\n",
            "mango looks good with onion\n",
            "mango looks good with brinjal\n",
            "banana looks good with potato\n",
            "banana looks good with bhindi\n",
            "banana looks good with onion\n",
            "banana looks good with brinjal\n",
            "lichi looks good with potato\n",
            "lichi looks good with bhindi\n",
            "lichi looks good with onion\n",
            "lichi looks good with brinjal\n",
            "orange looks good with potato\n",
            "orange looks good with bhindi\n",
            "orange looks good with onion\n",
            "orange looks good with brinjal\n",
            "\n",
            " \n",
            "\n",
            "mango looks good with potato\n",
            "mango looks good with bhindi\n",
            "mango looks good with onion\n",
            "mango looks good with brinjal\n",
            "banana looks good with potato\n",
            "banana looks good with bhindi\n",
            "banana looks good with onion\n",
            "banana looks good with brinjal\n",
            "lichi looks good with potato\n",
            "lichi looks good with bhindi\n",
            "lichi looks good with onion\n",
            "lichi looks good with brinjal\n",
            "orange looks good with potato\n",
            "orange looks good with bhindi\n",
            "orange looks good with onion\n",
            "orange looks good with brinjal\n"
          ]
        }
      ]
    },
    {
      "cell_type": "code",
      "source": [
        "r=10\n",
        "for i in range(1,r+1,1):\n",
        "  for j in range(1,i+1,1):\n",
        "    print(j,end=\" \")\n",
        "  print()"
      ],
      "metadata": {
        "id": "VeOpuDxMCyVd",
        "outputId": "5c6dd5b3-5614-4602-b439-15f851c18e8e",
        "colab": {
          "base_uri": "https://localhost:8080/"
        }
      },
      "execution_count": 10,
      "outputs": [
        {
          "output_type": "stream",
          "name": "stdout",
          "text": [
            "1 \n",
            "1 2 \n",
            "1 2 3 \n",
            "1 2 3 4 \n",
            "1 2 3 4 5 \n",
            "1 2 3 4 5 6 \n",
            "1 2 3 4 5 6 7 \n",
            "1 2 3 4 5 6 7 8 \n",
            "1 2 3 4 5 6 7 8 9 \n",
            "1 2 3 4 5 6 7 8 9 10 \n"
          ]
        }
      ]
    },
    {
      "cell_type": "code",
      "source": [],
      "metadata": {
        "id": "jfX4JisQqySq"
      },
      "execution_count": null,
      "outputs": []
    }
  ]
}