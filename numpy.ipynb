{
  "nbformat": 4,
  "nbformat_minor": 0,
  "metadata": {
    "colab": {
      "provenance": [],
      "authorship_tag": "ABX9TyPGhDXVN2F0UO6KKOrv/M7P",
      "include_colab_link": true
    },
    "kernelspec": {
      "name": "python3",
      "display_name": "Python 3"
    },
    "language_info": {
      "name": "python"
    }
  },
  "cells": [
    {
      "cell_type": "markdown",
      "metadata": {
        "id": "view-in-github",
        "colab_type": "text"
      },
      "source": [
        "<a href=\"https://colab.research.google.com/github/tusharmaurya267/Python_basic/blob/main/numpy.ipynb\" target=\"_parent\"><img src=\"https://colab.research.google.com/assets/colab-badge.svg\" alt=\"Open In Colab\"/></a>"
      ]
    },
    {
      "cell_type": "markdown",
      "source": [
        "# **NUMPY**"
      ],
      "metadata": {
        "id": "A8_m1Rbpg-_5"
      }
    },
    {
      "cell_type": "markdown",
      "source": [
        "### Basic function of array(type,size,shape,dtype,transpose)"
      ],
      "metadata": {
        "id": "PYmiAp6DnmM1"
      }
    },
    {
      "cell_type": "code",
      "execution_count": 1,
      "metadata": {
        "id": "3Bi6rd_GXF5g"
      },
      "outputs": [],
      "source": [
        "import numpy as np"
      ]
    },
    {
      "cell_type": "code",
      "source": [
        "# 1D array of integer\n",
        "arr1 = np.array([1,2,3,4,5])\n",
        "print(arr1)\n",
        "print(type(arr1))\n",
        "print(size(arr1))\n",
        "print(arr1.size)\n",
        "print(arr1.shape)\n",
        "print(arr1.dtype)\n",
        "print(arr1.transpose())"
      ],
      "metadata": {
        "colab": {
          "base_uri": "https://localhost:8080/"
        },
        "id": "hNHiTWw8YR9m",
        "outputId": "3f665b03-6d07-4332-c679-73a77490f5df"
      },
      "execution_count": null,
      "outputs": [
        {
          "output_type": "stream",
          "name": "stdout",
          "text": [
            "[1 2 3 4 5]\n",
            "<class 'numpy.ndarray'>\n",
            "5\n",
            "5\n",
            "(5,)\n",
            "int64\n",
            "[1 2 3 4 5]\n"
          ]
        }
      ]
    },
    {
      "cell_type": "code",
      "source": [
        "# 2D array of integer\n",
        "arr2 = np.array([[1,2,3,4],[5,6,7.1,8]])\n",
        "print(arr2)\n",
        "print(size(arr2))\n",
        "print(arr2.size)\n",
        "print(arr2.shape)\n",
        "print(arr2.dtype)\n",
        "print(arr2.transpose())"
      ],
      "metadata": {
        "colab": {
          "base_uri": "https://localhost:8080/"
        },
        "id": "b9a-DIuKYec3",
        "outputId": "a51eed4d-30e4-4003-8d14-0fe5c22456f6"
      },
      "execution_count": null,
      "outputs": [
        {
          "output_type": "stream",
          "name": "stdout",
          "text": [
            "[[1.  2.  3.  4. ]\n",
            " [5.  6.  7.1 8. ]]\n",
            "8\n",
            "8\n",
            "(2, 4)\n",
            "float64\n",
            "[[1.  5. ]\n",
            " [2.  6. ]\n",
            " [3.  7.1]\n",
            " [4.  8. ]]\n"
          ]
        }
      ]
    },
    {
      "cell_type": "code",
      "source": [
        "# 1D array of characters\n",
        "arr2 = np.array(['a','b',3,'d'])\n",
        "print(arr2)\n",
        "print(size(arr2))\n",
        "print(arr2.size)\n",
        "print(arr2.shape)\n",
        "print(arr2.dtype)\n",
        "print(arr2.transpose())"
      ],
      "metadata": {
        "colab": {
          "base_uri": "https://localhost:8080/"
        },
        "id": "1uoOHF12Yxzh",
        "outputId": "97d5d216-dc50-40c4-fad0-21870a17c30b"
      },
      "execution_count": null,
      "outputs": [
        {
          "output_type": "stream",
          "name": "stdout",
          "text": [
            "['a' 'b' '3' 'd']\n",
            "4\n",
            "4\n",
            "(4,)\n",
            "<U21\n",
            "['a' 'b' '3' 'd']\n"
          ]
        }
      ]
    },
    {
      "cell_type": "code",
      "source": [
        "# 2D array of characters\n",
        "arr2 = np.array([['a',3,'c','d'],['e',5.2,'g','h']])\n",
        "print(arr2)\n",
        "print(size(arr2))\n",
        "print(arr2.size)\n",
        "print(arr2.shape)\n",
        "print(arr2.dtype)\n",
        "print(arr2.transpose())"
      ],
      "metadata": {
        "colab": {
          "base_uri": "https://localhost:8080/"
        },
        "id": "m4vrma59cQ0U",
        "outputId": "7f59a794-6877-461d-ff89-e9b03bcaec75"
      },
      "execution_count": null,
      "outputs": [
        {
          "output_type": "stream",
          "name": "stdout",
          "text": [
            "[['a' '3' 'c' 'd']\n",
            " ['e' '5.2' 'g' 'h']]\n",
            "8\n",
            "8\n",
            "(2, 4)\n",
            "<U32\n",
            "[['a' 'e']\n",
            " ['3' '5.2']\n",
            " ['c' 'g']\n",
            " ['d' 'h']]\n"
          ]
        }
      ]
    },
    {
      "cell_type": "markdown",
      "source": [
        "### functions for creation of array(empty,ones,zeros,full)"
      ],
      "metadata": {
        "id": "rxhM1nx7n_Rh"
      }
    },
    {
      "cell_type": "code",
      "source": [
        "# creating empty array with different data types\n",
        "print(np.empty((4),dtype=int))\n",
        "print(np.empty((4,3),dtype=int))\n",
        "print(np.empty((4),dtype=float))\n",
        "print(np.empty((4,3),dtype=float))\n",
        "print(np.empty((4),dtype=str))\n",
        "print(np.empty((4,3),dtype=str))\n",
        "print(np.empty((4),dtype=bool))\n",
        "print(np.empty((4,3),dtype=bool))"
      ],
      "metadata": {
        "colab": {
          "base_uri": "https://localhost:8080/"
        },
        "id": "ZYF3OxoudnzB",
        "outputId": "6112eb32-fdce-4661-ebcf-dd4a8563eb89"
      },
      "execution_count": null,
      "outputs": [
        {
          "output_type": "stream",
          "name": "stdout",
          "text": [
            "[4607182418800017408 4607182418800017408 4607182418800017408\n",
            " 4607182418800017408]\n",
            "[[4607182418800017408 4607182418800017408 4607182418800017408]\n",
            " [4607182418800017408 4607182418800017408 4607182418800017408]\n",
            " [4607182418800017408 4607182418800017408 4607182418800017408]\n",
            " [4607182418800017408 4607182418800017408 4607182418800017408]]\n",
            "[1. 1. 1. 1.]\n",
            "[[1. 1. 1.]\n",
            " [1. 1. 1.]\n",
            " [1. 1. 1.]\n",
            " [1. 1. 1.]]\n",
            "['' '' '' '']\n",
            "[['' '' '']\n",
            " ['' '' '']\n",
            " ['' '' '']\n",
            " ['' '' '']]\n",
            "[ True  True  True  True]\n",
            "[[ True  True  True]\n",
            " [ True  True  True]\n",
            " [ True  True  True]\n",
            " [ True  True  True]]\n"
          ]
        }
      ]
    },
    {
      "cell_type": "code",
      "source": [
        "# creating one's array with different data types\n",
        "print(np.ones((4),dtype=int))\n",
        "print(np.ones((4,3),dtype=int))\n",
        "print(np.ones((4),dtype=float))\n",
        "print(np.ones((4,3),dtype=float))\n",
        "print(np.ones((4),dtype=str))\n",
        "print(np.ones((4,3),dtype=str))\n",
        "print(np.ones((4),dtype=bool))\n",
        "print(np.ones((4,3),dtype=bool))"
      ],
      "metadata": {
        "colab": {
          "base_uri": "https://localhost:8080/"
        },
        "id": "AUiSJ9VhfLw4",
        "outputId": "61272305-70fa-4ab2-aa05-623ed2292b80"
      },
      "execution_count": null,
      "outputs": [
        {
          "output_type": "stream",
          "name": "stdout",
          "text": [
            "[1 1 1 1]\n",
            "[[1 1 1]\n",
            " [1 1 1]\n",
            " [1 1 1]\n",
            " [1 1 1]]\n",
            "[1. 1. 1. 1.]\n",
            "[[1. 1. 1.]\n",
            " [1. 1. 1.]\n",
            " [1. 1. 1.]\n",
            " [1. 1. 1.]]\n",
            "['1' '1' '1' '1']\n",
            "[['1' '1' '1']\n",
            " ['1' '1' '1']\n",
            " ['1' '1' '1']\n",
            " ['1' '1' '1']]\n",
            "[ True  True  True  True]\n",
            "[[ True  True  True]\n",
            " [ True  True  True]\n",
            " [ True  True  True]\n",
            " [ True  True  True]]\n"
          ]
        }
      ]
    },
    {
      "cell_type": "code",
      "source": [
        "# creating zero's array with different data types\n",
        "print(np.zeros((4),dtype=int))\n",
        "print(np.zeros((4,3),dtype=int))\n",
        "print(np.zeros((4),dtype=float))\n",
        "print(np.zeros((4,3),dtype=float))\n",
        "print(np.zeros((4),dtype=str))\n",
        "print(np.zeros((4,3),dtype=str))\n",
        "print(np.zeros((4),dtype=bool))\n",
        "print(np.zeros((4,3),dtype=bool))"
      ],
      "metadata": {
        "colab": {
          "base_uri": "https://localhost:8080/"
        },
        "id": "D488A1cigTJN",
        "outputId": "537840a4-5a3d-48e9-be73-1e0a4e7f453f"
      },
      "execution_count": null,
      "outputs": [
        {
          "output_type": "stream",
          "name": "stdout",
          "text": [
            "[0 0 0 0]\n",
            "[[0 0 0]\n",
            " [0 0 0]\n",
            " [0 0 0]\n",
            " [0 0 0]]\n",
            "[0. 0. 0. 0.]\n",
            "[[0. 0. 0.]\n",
            " [0. 0. 0.]\n",
            " [0. 0. 0.]\n",
            " [0. 0. 0.]]\n",
            "['' '' '' '']\n",
            "[['' '' '']\n",
            " ['' '' '']\n",
            " ['' '' '']\n",
            " ['' '' '']]\n",
            "[False False False False]\n",
            "[[False False False]\n",
            " [False False False]\n",
            " [False False False]\n",
            " [False False False]]\n"
          ]
        }
      ]
    },
    {
      "cell_type": "code",
      "source": [
        "# creating full's array with different data types\n",
        "print(np.full((4),5,dtype=int))\n",
        "print(np.full((4,3),5,dtype=int))\n",
        "print(np.full((4),5,dtype=float))\n",
        "print(np.full((4,3),5,dtype=float))\n",
        "print(np.full((4),5,dtype=str))\n",
        "print(np.full((4,3),5,dtype=str))\n",
        "print(np.full((4),5,dtype=bool))\n",
        "print(np.full((4,3),0,dtype=bool))"
      ],
      "metadata": {
        "colab": {
          "base_uri": "https://localhost:8080/"
        },
        "id": "kClYPzkfjgpQ",
        "outputId": "1da60f99-c0c5-419b-d271-a26be24cd276"
      },
      "execution_count": 8,
      "outputs": [
        {
          "output_type": "stream",
          "name": "stdout",
          "text": [
            "[5 5 5 5]\n",
            "[[5 5 5]\n",
            " [5 5 5]\n",
            " [5 5 5]\n",
            " [5 5 5]]\n",
            "[5. 5. 5. 5.]\n",
            "[[5. 5. 5.]\n",
            " [5. 5. 5.]\n",
            " [5. 5. 5.]\n",
            " [5. 5. 5.]]\n",
            "['5' '5' '5' '5']\n",
            "[['5' '5' '5']\n",
            " ['5' '5' '5']\n",
            " ['5' '5' '5']\n",
            " ['5' '5' '5']]\n",
            "[ True  True  True  True]\n",
            "[[False False False]\n",
            " [False False False]\n",
            " [False False False]\n",
            " [False False False]]\n"
          ]
        }
      ]
    },
    {
      "cell_type": "markdown",
      "source": [
        "### FUNCTIONS LIKE:- ARANGE,RESHAPE,FLATTEN,RAVEL"
      ],
      "metadata": {
        "id": "a_zi4lDKUuU5"
      }
    },
    {
      "cell_type": "code",
      "source": [
        "# generating series of array\n",
        "arr1 = np.arange(0,10,2)\n",
        "arr2 = np.arange(0,10)\n",
        "arr3 = np.arange(6)\n",
        "print(arr1)\n",
        "print(arr2)\n",
        "print(arr3)"
      ],
      "metadata": {
        "colab": {
          "base_uri": "https://localhost:8080/"
        },
        "id": "jIgh0X4Zg7_U",
        "outputId": "b5501596-b94c-4afd-c40f-c4dad011cb95"
      },
      "execution_count": null,
      "outputs": [
        {
          "output_type": "stream",
          "name": "stdout",
          "text": [
            "[0 2 4 6 8]\n",
            "[0 1 2 3 4 5 6 7 8 9]\n",
            "[0 1 2 3 4 5]\n"
          ]
        }
      ]
    },
    {
      "cell_type": "code",
      "source": [
        "# reshaping the array by making it multi-dimensional array\n",
        "arr2 = arr2.reshape((2,5))\n",
        "print(arr2)\n",
        "arr3 = arr3.reshape((3,2))\n",
        "print(arr3)"
      ],
      "metadata": {
        "colab": {
          "base_uri": "https://localhost:8080/"
        },
        "id": "YJ4DIjh_jRaz",
        "outputId": "0198e70b-97c8-4f58-f442-0d22391c48df"
      },
      "execution_count": null,
      "outputs": [
        {
          "output_type": "stream",
          "name": "stdout",
          "text": [
            "[[0 1 2 3 4]\n",
            " [5 6 7 8 9]]\n",
            "[[0 1]\n",
            " [2 3]\n",
            " [4 5]]\n"
          ]
        }
      ]
    },
    {
      "cell_type": "code",
      "source": [
        "# reshaping the array by making it single dimensional array\n",
        "arr2 = arr2.flatten()\n",
        "print(arr2)\n",
        "arr3 = arr3.flatten()\n",
        "print(arr3)\n",
        "arr2 = arr2.ravel()\n",
        "print(arr2)\n",
        "arr3 = arr3.ravel()\n",
        "print(arr3)"
      ],
      "metadata": {
        "colab": {
          "base_uri": "https://localhost:8080/"
        },
        "id": "5hYch6Dgj9V3",
        "outputId": "8e4fa047-88b0-4835-a12f-1d5f2094f459"
      },
      "execution_count": null,
      "outputs": [
        {
          "output_type": "stream",
          "name": "stdout",
          "text": [
            "[0 1 2 3 4 5 6 7 8 9]\n",
            "[0 1 2 3 4 5]\n",
            "[0 1 2 3 4 5 6 7 8 9]\n",
            "[0 1 2 3 4 5]\n"
          ]
        }
      ]
    },
    {
      "cell_type": "markdown",
      "source": [
        "### ARRAY SLICING"
      ],
      "metadata": {
        "id": "EMBV80O1UqVo"
      }
    },
    {
      "cell_type": "code",
      "source": [
        "# for slicing the array\n",
        "arr1 = np.arange(0,100)\n",
        "arr2= arr1.reshape((10,10))\n",
        "print(arr2)"
      ],
      "metadata": {
        "colab": {
          "base_uri": "https://localhost:8080/"
        },
        "id": "R4J1xMP3mEXY",
        "outputId": "89f9b0d2-be6f-488d-fe89-50582dab849c"
      },
      "execution_count": null,
      "outputs": [
        {
          "output_type": "stream",
          "name": "stdout",
          "text": [
            "[[ 0  1  2  3  4  5  6  7  8  9]\n",
            " [10 11 12 13 14 15 16 17 18 19]\n",
            " [20 21 22 23 24 25 26 27 28 29]\n",
            " [30 31 32 33 34 35 36 37 38 39]\n",
            " [40 41 42 43 44 45 46 47 48 49]\n",
            " [50 51 52 53 54 55 56 57 58 59]\n",
            " [60 61 62 63 64 65 66 67 68 69]\n",
            " [70 71 72 73 74 75 76 77 78 79]\n",
            " [80 81 82 83 84 85 86 87 88 89]\n",
            " [90 91 92 93 94 95 96 97 98 99]]\n"
          ]
        }
      ]
    },
    {
      "cell_type": "code",
      "source": [
        "# for slicing the array\n",
        "print(arr2[3])\n",
        "print(arr2[3,4])\n",
        "print(arr2[:,:])\n",
        "print(arr2[2:5,4])\n",
        "print(arr2[2,4:6])\n",
        "print(arr2[2:5,4:6])\n",
        "print(arr2[2:5,:])\n",
        "print(arr2[:,4:6])\n"
      ],
      "metadata": {
        "colab": {
          "base_uri": "https://localhost:8080/"
        },
        "id": "IxbrKUNrbfC8",
        "outputId": "e963054e-540f-49cc-f47c-0d3c3208ff97"
      },
      "execution_count": null,
      "outputs": [
        {
          "output_type": "stream",
          "name": "stdout",
          "text": [
            "[30 31 32 33 34 35 36 37 38 39]\n",
            "34\n",
            "[[ 0  1  2  3  4  5  6  7  8  9]\n",
            " [10 11 12 13 14 15 16 17 18 19]\n",
            " [20 21 22 23 24 25 26 27 28 29]\n",
            " [30 31 32 33 34 35 36 37 38 39]\n",
            " [40 41 42 43 44 45 46 47 48 49]\n",
            " [50 51 52 53 54 55 56 57 58 59]\n",
            " [60 61 62 63 64 65 66 67 68 69]\n",
            " [70 71 72 73 74 75 76 77 78 79]\n",
            " [80 81 82 83 84 85 86 87 88 89]\n",
            " [90 91 92 93 94 95 96 97 98 99]]\n",
            "[24 34 44]\n",
            "[24 25]\n",
            "[[24 25]\n",
            " [34 35]\n",
            " [44 45]]\n",
            "[[20 21 22 23 24 25 26 27 28 29]\n",
            " [30 31 32 33 34 35 36 37 38 39]\n",
            " [40 41 42 43 44 45 46 47 48 49]]\n",
            "[[ 4  5]\n",
            " [14 15]\n",
            " [24 25]\n",
            " [34 35]\n",
            " [44 45]\n",
            " [54 55]\n",
            " [64 65]\n",
            " [74 75]\n",
            " [84 85]\n",
            " [94 95]]\n"
          ]
        }
      ]
    },
    {
      "cell_type": "markdown",
      "source": [
        "### MATHEMATICAL FUNCTIONS"
      ],
      "metadata": {
        "id": "-GR2p8H6UNz9"
      }
    },
    {
      "cell_type": "code",
      "source": [
        "# basic mathematical operations on 2D array\n",
        "a=np.arange(0,18).reshape(3,6)\n",
        "b=np.arange(20,38).reshape(3,6)\n",
        "print(a,\"\\n\",b)\n",
        "\n",
        "print(a+b)\n",
        "print(np.add(a,b))\n",
        "print(a-b)\n",
        "print(np.subtract(a,b))\n",
        "print(a*b)\n",
        "print(np.multiply(a,b))\n",
        "print(a/b)\n",
        "print(np.divide(a,b))\n",
        "print(a%b)\n",
        "c=b.reshape(6,3)\n",
        "print(a,c)\n",
        "print(a@c)\n",
        "print(np.dot(a,c))\n",
        "\n",
        "print(np.max((a)))\n",
        "print(np.min(b))\n",
        "print(np.argmax(b))\n",
        "print(np.argmin(b))\n",
        "print(np.sum(b))\n",
        "print(np.sum(b,axis=1))\n",
        "print(np.sum(b,axis=0))\n",
        "print(np.mean(b))\n",
        "print(np.var(b))\n",
        "print(np.std(b))\n",
        "print(np.log(b))"
      ],
      "metadata": {
        "colab": {
          "base_uri": "https://localhost:8080/"
        },
        "id": "ZMSL5EpDb-hB",
        "outputId": "6bec2f8e-c0ae-4d56-b10b-98e06725fd1a"
      },
      "execution_count": 36,
      "outputs": [
        {
          "output_type": "stream",
          "name": "stdout",
          "text": [
            "[[ 0  1  2  3  4  5]\n",
            " [ 6  7  8  9 10 11]\n",
            " [12 13 14 15 16 17]] \n",
            " [[20 21 22 23 24 25]\n",
            " [26 27 28 29 30 31]\n",
            " [32 33 34 35 36 37]]\n",
            "[[20 22 24 26 28 30]\n",
            " [32 34 36 38 40 42]\n",
            " [44 46 48 50 52 54]]\n",
            "[[20 22 24 26 28 30]\n",
            " [32 34 36 38 40 42]\n",
            " [44 46 48 50 52 54]]\n",
            "[[-20 -20 -20 -20 -20 -20]\n",
            " [-20 -20 -20 -20 -20 -20]\n",
            " [-20 -20 -20 -20 -20 -20]]\n",
            "[[-20 -20 -20 -20 -20 -20]\n",
            " [-20 -20 -20 -20 -20 -20]\n",
            " [-20 -20 -20 -20 -20 -20]]\n",
            "[[  0  21  44  69  96 125]\n",
            " [156 189 224 261 300 341]\n",
            " [384 429 476 525 576 629]]\n",
            "[[  0  21  44  69  96 125]\n",
            " [156 189 224 261 300 341]\n",
            " [384 429 476 525 576 629]]\n",
            "[[0.         0.04761905 0.09090909 0.13043478 0.16666667 0.2       ]\n",
            " [0.23076923 0.25925926 0.28571429 0.31034483 0.33333333 0.35483871]\n",
            " [0.375      0.39393939 0.41176471 0.42857143 0.44444444 0.45945946]]\n",
            "[[0.         0.04761905 0.09090909 0.13043478 0.16666667 0.2       ]\n",
            " [0.23076923 0.25925926 0.28571429 0.31034483 0.33333333 0.35483871]\n",
            " [0.375      0.39393939 0.41176471 0.42857143 0.44444444 0.45945946]]\n",
            "[[ 0  1  2  3  4  5]\n",
            " [ 6  7  8  9 10 11]\n",
            " [12 13 14 15 16 17]]\n",
            "[[ 0  1  2  3  4  5]\n",
            " [ 6  7  8  9 10 11]\n",
            " [12 13 14 15 16 17]] [[20 21 22]\n",
            " [23 24 25]\n",
            " [26 27 28]\n",
            " [29 30 31]\n",
            " [32 33 34]\n",
            " [35 36 37]]\n",
            "[[ 465  480  495]\n",
            " [1455 1506 1557]\n",
            " [2445 2532 2619]]\n",
            "[[ 465  480  495]\n",
            " [1455 1506 1557]\n",
            " [2445 2532 2619]]\n",
            "17\n",
            "20\n",
            "17\n",
            "0\n",
            "513\n",
            "[135 171 207]\n",
            "[78 81 84 87 90 93]\n",
            "28.5\n",
            "26.916666666666668\n",
            "5.188127472091127\n",
            "[[2.99573227 3.04452244 3.09104245 3.13549422 3.17805383 3.21887582]\n",
            " [3.25809654 3.29583687 3.33220451 3.36729583 3.40119738 3.4339872 ]\n",
            " [3.4657359  3.49650756 3.52636052 3.55534806 3.58351894 3.61091791]]\n"
          ]
        }
      ]
    },
    {
      "cell_type": "markdown",
      "source": [
        "### SAVE AND LOAD"
      ],
      "metadata": {
        "id": "9CcBrDcgpLUB"
      }
    },
    {
      "cell_type": "code",
      "source": [
        "arr1 = [1,2,3,4,5]\n",
        "n1 = np.save('arr1_store',arr1) "
      ],
      "metadata": {
        "id": "WSmgwHn7wrGK"
      },
      "execution_count": 9,
      "outputs": []
    },
    {
      "cell_type": "code",
      "source": [
        "n9=np.load('arr1_store.npy')\n",
        "n9"
      ],
      "metadata": {
        "colab": {
          "base_uri": "https://localhost:8080/"
        },
        "id": "NbXLbVVzpZx7",
        "outputId": "bfe56a49-1894-4391-fac9-b992d09a16fa"
      },
      "execution_count": 11,
      "outputs": [
        {
          "output_type": "execute_result",
          "data": {
            "text/plain": [
              "array([1, 2, 3, 4, 5])"
            ]
          },
          "metadata": {},
          "execution_count": 11
        }
      ]
    },
    {
      "cell_type": "markdown",
      "source": [
        "### TRIGNOMETRIC FUNCTIONS"
      ],
      "metadata": {
        "id": "tb4EkuFvUGMf"
      }
    },
    {
      "cell_type": "code",
      "source": [
        "# trignometrical function and glimpse of matplotlib \n",
        "import matplotlib.pyplot as plt\n",
        "plt.style.use('dark_background')"
      ],
      "metadata": {
        "id": "NCj_fyAuETSB"
      },
      "execution_count": null,
      "outputs": []
    },
    {
      "cell_type": "code",
      "source": [
        "# trignometrical function\n",
        "print(np.pi)\n",
        "print(np.sin(np.pi/2))\n",
        "print(np.cos(np.pi/2))\n",
        "print(np.tan(np.pi/2))"
      ],
      "metadata": {
        "colab": {
          "base_uri": "https://localhost:8080/"
        },
        "id": "k7NBF6RSEiNI",
        "outputId": "18162163-0e75-47fa-bb59-bb5874ad8da5"
      },
      "execution_count": null,
      "outputs": [
        {
          "output_type": "stream",
          "name": "stdout",
          "text": [
            "3.141592653589793\n"
          ]
        }
      ]
    },
    {
      "cell_type": "code",
      "source": [
        "# using matplotlib with numpy\n",
        "a=np.arange(1,11)\n",
        "b=np.arange(10,110,10)"
      ],
      "metadata": {
        "id": "lGn5KluzEjZ-"
      },
      "execution_count": null,
      "outputs": []
    },
    {
      "cell_type": "code",
      "source": [
        "plt.figure(figsize=(3,2))\n",
        "plt.plot(a,b,'r--')\n",
        "plt.show()"
      ],
      "metadata": {
        "colab": {
          "base_uri": "https://localhost:8080/",
          "height": 214
        },
        "id": "kl84dVTeEsuy",
        "outputId": "13e0d096-f8b9-4962-e70e-413525ae852e"
      },
      "execution_count": null,
      "outputs": [
        {
          "output_type": "display_data",
          "data": {
            "text/plain": [
              "<Figure size 300x200 with 1 Axes>"
            ],
            "image/png": "[encoded data removed]"
          },
          "metadata": {}
        }
      ]
    },
    {
      "cell_type": "code",
      "source": [],
      "metadata": {
        "colab": {
          "base_uri": "https://localhost:8080/"
        },
        "id": "4UKaIYGIE0uf",
        "outputId": "fc14a5d8-7d3e-4dae-b8dc-66c09b114a4f"
      },
      "execution_count": null,
      "outputs": [
        {
          "output_type": "stream",
          "name": "stdout",
          "text": [
            "1.633123935319537e+16\n"
          ]
        }
      ]
    },
    {
      "cell_type": "code",
      "source": [
        "x_sin=np.arange(0,2*np.pi,0.1)\n",
        "y_sin=np.sin(x_sin)\n",
        "print(x_sin,'\\n',y_sin)"
      ],
      "metadata": {
        "colab": {
          "base_uri": "https://localhost:8080/"
        },
        "id": "7JfeZTNRE2PD",
        "outputId": "f5c5ea47-62a7-4954-8890-e100c4753925"
      },
      "execution_count": null,
      "outputs": [
        {
          "output_type": "stream",
          "name": "stdout",
          "text": [
            "[0.  0.1 0.2 0.3 0.4 0.5 0.6 0.7 0.8 0.9 1.  1.1 1.2 1.3 1.4 1.5 1.6 1.7\n",
            " 1.8 1.9 2.  2.1 2.2 2.3 2.4 2.5 2.6 2.7 2.8 2.9 3.  3.1 3.2 3.3 3.4 3.5\n",
            " 3.6 3.7 3.8 3.9 4.  4.1 4.2 4.3 4.4 4.5 4.6 4.7 4.8 4.9 5.  5.1 5.2 5.3\n",
            " 5.4 5.5 5.6 5.7 5.8 5.9 6.  6.1 6.2] \n",
            " [ 0.          0.09983342  0.19866933  0.29552021  0.38941834  0.47942554\n",
            "  0.56464247  0.64421769  0.71735609  0.78332691  0.84147098  0.89120736\n",
            "  0.93203909  0.96355819  0.98544973  0.99749499  0.9995736   0.99166481\n",
            "  0.97384763  0.94630009  0.90929743  0.86320937  0.8084964   0.74570521\n",
            "  0.67546318  0.59847214  0.51550137  0.42737988  0.33498815  0.23924933\n",
            "  0.14112001  0.04158066 -0.05837414 -0.15774569 -0.2555411  -0.35078323\n",
            " -0.44252044 -0.52983614 -0.61185789 -0.68776616 -0.7568025  -0.81827711\n",
            " -0.87157577 -0.91616594 -0.95160207 -0.97753012 -0.993691   -0.99992326\n",
            " -0.99616461 -0.98245261 -0.95892427 -0.92581468 -0.88345466 -0.83226744\n",
            " -0.77276449 -0.70554033 -0.63126664 -0.55068554 -0.46460218 -0.37387666\n",
            " -0.2794155  -0.1821625  -0.0830894 ]\n"
          ]
        }
      ]
    },
    {
      "cell_type": "code",
      "source": [
        "plt.figure(figsize=(3,2))\n",
        "plt.plot(x_sin,y_sin,'b--')\n",
        "plt.title(\"SIN CURVE\")\n",
        "plt.show()"
      ],
      "metadata": {
        "colab": {
          "base_uri": "https://localhost:8080/",
          "height": 237
        },
        "id": "rcIODUtFE4Ar",
        "outputId": "5d5d6fd4-57e4-48bb-8cd7-14595f380d05"
      },
      "execution_count": null,
      "outputs": [
        {
          "output_type": "display_data",
          "data": {
            "text/plain": [
              "<Figure size 300x200 with 1 Axes>"
            ],
            "image/png": "[encoded data removed]"
          },
          "metadata": {}
        }
      ]
    },
    {
      "cell_type": "code",
      "source": [
        "x_cos=np.arange(0,2*np.pi,0.1)\n",
        "y_cos=np.cos(x_cos)\n",
        "print(x_cos,'\\n',y_cos)"
      ],
      "metadata": {
        "colab": {
          "base_uri": "https://localhost:8080/"
        },
        "id": "ASkkRChtQFco",
        "outputId": "22ab4ff9-60d3-4b97-b2b0-492fc26ca2ab"
      },
      "execution_count": null,
      "outputs": [
        {
          "output_type": "stream",
          "name": "stdout",
          "text": [
            "[0.  0.1 0.2 0.3 0.4 0.5 0.6 0.7 0.8 0.9 1.  1.1 1.2 1.3 1.4 1.5 1.6 1.7\n",
            " 1.8 1.9 2.  2.1 2.2 2.3 2.4 2.5 2.6 2.7 2.8 2.9 3.  3.1 3.2 3.3 3.4 3.5\n",
            " 3.6 3.7 3.8 3.9 4.  4.1 4.2 4.3 4.4 4.5 4.6 4.7 4.8 4.9 5.  5.1 5.2 5.3\n",
            " 5.4 5.5 5.6 5.7 5.8 5.9 6.  6.1 6.2] \n",
            " [ 1.          0.99500417  0.98006658  0.95533649  0.92106099  0.87758256\n",
            "  0.82533561  0.76484219  0.69670671  0.62160997  0.54030231  0.45359612\n",
            "  0.36235775  0.26749883  0.16996714  0.0707372  -0.02919952 -0.12884449\n",
            " -0.22720209 -0.32328957 -0.41614684 -0.5048461  -0.58850112 -0.66627602\n",
            " -0.73739372 -0.80114362 -0.85688875 -0.90407214 -0.94222234 -0.97095817\n",
            " -0.9899925  -0.99913515 -0.99829478 -0.98747977 -0.96679819 -0.93645669\n",
            " -0.89675842 -0.84810003 -0.79096771 -0.7259323  -0.65364362 -0.57482395\n",
            " -0.49026082 -0.40079917 -0.30733287 -0.2107958  -0.11215253 -0.01238866\n",
            "  0.08749898  0.18651237  0.28366219  0.37797774  0.46851667  0.55437434\n",
            "  0.63469288  0.70866977  0.77556588  0.83471278  0.88551952  0.92747843\n",
            "  0.96017029  0.98326844  0.9965421 ]\n"
          ]
        }
      ]
    },
    {
      "cell_type": "code",
      "source": [
        "plt.figure(figsize=(3,2))\n",
        "plt.plot(x_cos,y_cos,'g--')\n",
        "plt.title(\"COS CURVE\")\n",
        "plt.show()"
      ],
      "metadata": {
        "colab": {
          "base_uri": "https://localhost:8080/",
          "height": 237
        },
        "id": "zkup2R02OGvA",
        "outputId": "06303678-0a23-455c-a81f-274c8a384a3c"
      },
      "execution_count": null,
      "outputs": [
        {
          "output_type": "display_data",
          "data": {
            "text/plain": [
              "<Figure size 300x200 with 1 Axes>"
            ],
            "image/png": "[encoded data removed]"
          },
          "metadata": {}
        }
      ]
    },
    {
      "cell_type": "code",
      "source": [
        "x_tan=np.arange(0,2*np.pi,0.1)\n",
        "y_tan=np.tan(x_tan)\n",
        "y_cot=1/y_tan\n",
        "print(x_tan,'\\n',y_tan)"
      ],
      "metadata": {
        "colab": {
          "base_uri": "https://localhost:8080/"
        },
        "id": "aldErcSBQPtT",
        "outputId": "1ff60b62-8c8c-4b5d-fd71-b67182a1d055"
      },
      "execution_count": null,
      "outputs": [
        {
          "output_type": "stream",
          "name": "stdout",
          "text": [
            "[0.  0.1 0.2 0.3 0.4 0.5 0.6 0.7 0.8 0.9 1.  1.1 1.2 1.3 1.4 1.5 1.6 1.7\n",
            " 1.8 1.9 2.  2.1 2.2 2.3 2.4 2.5 2.6 2.7 2.8 2.9 3.  3.1 3.2 3.3 3.4 3.5\n",
            " 3.6 3.7 3.8 3.9 4.  4.1 4.2 4.3 4.4 4.5 4.6 4.7 4.8 4.9 5.  5.1 5.2 5.3\n",
            " 5.4 5.5 5.6 5.7 5.8 5.9 6.  6.1 6.2] \n",
            " [ 0.00000000e+00  1.00334672e-01  2.02710036e-01  3.09336250e-01\n",
            "  4.22793219e-01  5.46302490e-01  6.84136808e-01  8.42288380e-01\n",
            "  1.02963856e+00  1.26015822e+00  1.55740772e+00  1.96475966e+00\n",
            "  2.57215162e+00  3.60210245e+00  5.79788372e+00  1.41014199e+01\n",
            " -3.42325327e+01 -7.69660214e+00 -4.28626167e+00 -2.92709751e+00\n",
            " -2.18503986e+00 -1.70984654e+00 -1.37382306e+00 -1.11921364e+00\n",
            " -9.16014290e-01 -7.47022297e-01 -6.01596613e-01 -4.72727629e-01\n",
            " -3.55529832e-01 -2.46405394e-01 -1.42546543e-01 -4.16166546e-02\n",
            "  5.84738545e-02  1.59745748e-01  2.64316901e-01  3.74585640e-01\n",
            "  4.93466730e-01  6.24733075e-01  7.73556091e-01  9.47424650e-01\n",
            "  1.15782128e+00  1.42352648e+00  1.77777977e+00  2.28584788e+00\n",
            "  3.09632378e+00  4.63733205e+00  8.86017490e+00  8.07127630e+01\n",
            " -1.13848707e+01 -5.26749307e+00 -3.38051501e+00 -2.44938942e+00\n",
            " -1.88564188e+00 -1.50127340e+00 -1.21754082e+00 -9.95584052e-01\n",
            " -8.13943284e-01 -6.59730572e-01 -5.24666222e-01 -4.03110900e-01\n",
            " -2.91006191e-01 -1.85262231e-01 -8.33777149e-02]\n"
          ]
        },
        {
          "output_type": "stream",
          "name": "stderr",
          "text": [
            "<ipython-input-92-1c6a4372bcbc>:3: RuntimeWarning: divide by zero encountered in true_divide\n",
            "  y_cot=1/y_tan\n"
          ]
        }
      ]
    },
    {
      "cell_type": "code",
      "source": [
        "plt.figure(figsize=(3,2))\n",
        "plt.plot(x_tan,y_tan,'r--')\n",
        "plt.title(\"TAN CURVE\")\n",
        "plt.show()"
      ],
      "metadata": {
        "colab": {
          "base_uri": "https://localhost:8080/",
          "height": 237
        },
        "id": "p2_KvS3cSVfA",
        "outputId": "a9253184-01b3-4689-b2b9-b596faa5b83e"
      },
      "execution_count": null,
      "outputs": [
        {
          "output_type": "display_data",
          "data": {
            "text/plain": [
              "<Figure size 300x200 with 1 Axes>"
            ],
            "image/png": "[encoded data removed]"
          },
          "metadata": {}
        }
      ]
    },
    {
      "cell_type": "code",
      "source": [
        "plt.figure(figsize=(3,2))\n",
        "plt.plot(x_tan,y_cot,'w--')\n",
        "plt.title(\"COT CURVE\")\n",
        "plt.show()"
      ],
      "metadata": {
        "colab": {
          "base_uri": "https://localhost:8080/",
          "height": 237
        },
        "id": "LRcgyBH5VT6F",
        "outputId": "81b00e11-fc2c-4564-da31-e3e66983b1cd"
      },
      "execution_count": null,
      "outputs": [
        {
          "output_type": "display_data",
          "data": {
            "text/plain": [
              "<Figure size 300x200 with 1 Axes>"
            ],
            "image/png": "[encoded data removed]"
          },
          "metadata": {}
        }
      ]
    },
    {
      "cell_type": "code",
      "source": [
        "plt.figure(figsize=(6,6))\n",
        "\n",
        "plt.subplot(2,2,1)\n",
        "plt.plot(x_sin,y_sin,'g--')\n",
        "plt.title(\"SIN CURVE\")\n",
        "\n",
        "plt.subplot(2,2,2)\n",
        "plt.plot(x_cos,y_cos,'r--')\n",
        "plt.title(\"COS CURVE\")\n",
        "\n",
        "plt.subplot(2,2,3)\n",
        "plt.plot(x_tan,y_tan,'w--')\n",
        "plt.title(\"TAN CURVE\")\n",
        "\n",
        "\n",
        "plt.subplot(2,2,4)\n",
        "plt.plot(x_tan,y_cot,'b--')\n",
        "plt.title(\"COT CURVE\")\n",
        "\n",
        "plt.show()"
      ],
      "metadata": {
        "colab": {
          "base_uri": "https://localhost:8080/",
          "height": 545
        },
        "id": "j9QvKrSlQ_qd",
        "outputId": "77f8477c-cb30-4eee-f912-16a3dc9410c2"
      },
      "execution_count": null,
      "outputs": [
        {
          "output_type": "display_data",
          "data": {
            "text/plain": [
              "<Figure size 600x600 with 4 Axes>"
            ],
            "image/png": "[encoded data removed]"
          },
          "metadata": {}
        }
      ]
    },
    {
      "cell_type": "markdown",
      "source": [
        "### RANDOM FUNCTIONS\n"
      ],
      "metadata": {
        "id": "0Doc4jAoWge7"
      }
    },
    {
      "cell_type": "code",
      "source": [
        "np.random.random(10)"
      ],
      "metadata": {
        "colab": {
          "base_uri": "https://localhost:8080/"
        },
        "id": "LgSBsfUgRGfr",
        "outputId": "c50c9b89-6a6a-4556-b2c7-bb67b4e2461f"
      },
      "execution_count": null,
      "outputs": [
        {
          "output_type": "execute_result",
          "data": {
            "text/plain": [
              "array([0.58992471, 0.83298665, 0.64030503, 0.49749016, 0.28969711,\n",
              "       0.11619427, 0.78984911, 0.24947568, 0.82186207, 0.54983092,\n",
              "       0.29772091, 0.5877899 , 0.69079947, 0.62084254, 0.84028363,\n",
              "       0.43846427, 0.27208727, 0.25261689, 0.15627194, 0.43762572,\n",
              "       0.9121436 , 0.70365025, 0.98843064, 0.52334824, 0.16854869,\n",
              "       0.90468737, 0.2114797 , 0.94454075, 0.39983427, 0.72045058,\n",
              "       0.66391295, 0.38482742, 0.80930249, 0.34588975, 0.14145056,\n",
              "       0.59249441, 0.07121227, 0.78140089, 0.50181323, 0.73032529,\n",
              "       0.82641503, 0.56525516, 0.51436179, 0.48006042, 0.07872982,\n",
              "       0.55539557, 0.55159914, 0.78821638, 0.23139697, 0.20098994,\n",
              "       0.65070113, 0.43651787, 0.33999439, 0.60082441, 0.22517878,\n",
              "       0.98057266, 0.28475923, 0.64758468, 0.57816714, 0.26409954,\n",
              "       0.95588316, 0.07619924, 0.88423464, 0.63823454, 0.09116424,\n",
              "       0.38494537, 0.01037259, 0.97881955, 0.65604575, 0.9462441 ,\n",
              "       0.04697724, 0.56777195, 0.38227673, 0.7476361 , 0.68737233,\n",
              "       0.14629714, 0.92444305, 0.80687849, 0.36756448, 0.04936619,\n",
              "       0.08122488, 0.76021531, 0.16658479, 0.07017194, 0.21866372,\n",
              "       0.89835696, 0.27241729, 0.78992385, 0.80653862, 0.04047028,\n",
              "       0.48506934, 0.77550692, 0.4049684 , 0.23445247, 0.37335366,\n",
              "       0.13248117, 0.00805867, 0.06802105, 0.84434323, 0.93979045])"
            ]
          },
          "metadata": {},
          "execution_count": 103
        }
      ]
    },
    {
      "cell_type": "code",
      "source": [
        "np.random.randint(1,10)"
      ],
      "metadata": {
        "colab": {
          "base_uri": "https://localhost:8080/"
        },
        "id": "4oR7p89WWrSA",
        "outputId": "b122a210-8cae-4af5-c439-17987ebfbb07"
      },
      "execution_count": null,
      "outputs": [
        {
          "output_type": "execute_result",
          "data": {
            "text/plain": [
              "6"
            ]
          },
          "metadata": {},
          "execution_count": 110
        }
      ]
    },
    {
      "cell_type": "code",
      "source": [
        "np.random.randint(1,10,(3,3))"
      ],
      "metadata": {
        "colab": {
          "base_uri": "https://localhost:8080/"
        },
        "id": "G-fBunGjWuqM",
        "outputId": "73fb3fcc-b7ed-4f5c-bdf6-03afd895a075"
      },
      "execution_count": null,
      "outputs": [
        {
          "output_type": "execute_result",
          "data": {
            "text/plain": [
              "array([[2, 8, 4],\n",
              "       [8, 6, 1],\n",
              "       [3, 1, 9]])"
            ]
          },
          "metadata": {},
          "execution_count": 107
        }
      ]
    },
    {
      "cell_type": "code",
      "source": [
        "np.random.randint(1,10,(3,4,5))"
      ],
      "metadata": {
        "colab": {
          "base_uri": "https://localhost:8080/"
        },
        "id": "2JsX7wCWX7e9",
        "outputId": "f6b8becd-ef1e-404c-c4e8-895f0bd66cea"
      },
      "execution_count": null,
      "outputs": [
        {
          "output_type": "execute_result",
          "data": {
            "text/plain": [
              "array([[[1, 8, 3, 9, 4],\n",
              "        [7, 5, 5, 3, 8],\n",
              "        [1, 9, 1, 1, 3],\n",
              "        [5, 9, 9, 9, 7]],\n",
              "\n",
              "       [[9, 6, 9, 5, 6],\n",
              "        [6, 4, 3, 3, 2],\n",
              "        [5, 3, 8, 3, 4],\n",
              "        [8, 4, 7, 5, 7]],\n",
              "\n",
              "       [[3, 6, 4, 5, 8],\n",
              "        [3, 9, 3, 2, 4],\n",
              "        [3, 4, 7, 4, 5],\n",
              "        [6, 9, 6, 2, 7]]])"
            ]
          },
          "metadata": {},
          "execution_count": 111
        }
      ]
    },
    {
      "cell_type": "code",
      "source": [
        "np.random.rand(2,2)"
      ],
      "metadata": {
        "colab": {
          "base_uri": "https://localhost:8080/"
        },
        "id": "QzNy5kpxYRkv",
        "outputId": "4dfb3efd-505f-45e9-d3cb-113fb0a5dbb5"
      },
      "execution_count": null,
      "outputs": [
        {
          "output_type": "execute_result",
          "data": {
            "text/plain": [
              "array([[0.2709568 , 0.32239284],\n",
              "       [0.45237174, 0.4539535 ]])"
            ]
          },
          "metadata": {},
          "execution_count": 112
        }
      ]
    },
    {
      "cell_type": "code",
      "source": [
        "np.random.randn(2,2)"
      ],
      "metadata": {
        "colab": {
          "base_uri": "https://localhost:8080/"
        },
        "id": "zbqbMND0YnnO",
        "outputId": "e01634e8-a465-4c20-f7a8-59caf419aacc"
      },
      "execution_count": null,
      "outputs": [
        {
          "output_type": "execute_result",
          "data": {
            "text/plain": [
              "array([[ 3.35600131, -0.72462386],\n",
              "       [-0.24913258, -1.22508354]])"
            ]
          },
          "metadata": {},
          "execution_count": 113
        }
      ]
    },
    {
      "cell_type": "code",
      "source": [
        "a=np.arange(30,50,2)\n",
        "np.random.choice(a)"
      ],
      "metadata": {
        "colab": {
          "base_uri": "https://localhost:8080/"
        },
        "id": "PAJUaI4rYqg_",
        "outputId": "d7f10f31-841d-45a2-912d-04a6487b1edf"
      },
      "execution_count": null,
      "outputs": [
        {
          "output_type": "execute_result",
          "data": {
            "text/plain": [
              "40"
            ]
          },
          "metadata": {},
          "execution_count": 120
        }
      ]
    },
    {
      "cell_type": "markdown",
      "source": [
        "### STRING FUNCTIONS"
      ],
      "metadata": {
        "id": "POy8pvIrZXVj"
      }
    },
    {
      "cell_type": "code",
      "source": [
        "a=\"My name is Tushar. \"\n",
        "b=\"I am a programmer\"\n",
        "c=\"My name \\nis \\n Tushar\""
      ],
      "metadata": {
        "id": "ib5guEoMYxar"
      },
      "execution_count": null,
      "outputs": []
    },
    {
      "cell_type": "code",
      "source": [
        "print(np.char.add(a,b))\n",
        "print(np.char.upper(a))\n",
        "print(np.char.lower(b))\n",
        "print(np.char.isupper(b))\n",
        "print(np.char.isupper(b[0]))\n",
        "print(np.char.split(a))\n",
        "print(np.char.splitlines(c))\n",
        "print(np.char.replace(a,'name','first_name'))"
      ],
      "metadata": {
        "colab": {
          "base_uri": "https://localhost:8080/"
        },
        "id": "sjQrbC4-Zi-o",
        "outputId": "f810d562-b7e4-48b7-d3d1-57334db16a8f"
      },
      "execution_count": null,
      "outputs": [
        {
          "output_type": "stream",
          "name": "stdout",
          "text": [
            "My name is Tushar. I am a programmer\n",
            "MY NAME IS TUSHAR. \n",
            "i am a programmer\n",
            "False\n",
            "True\n",
            "['My', 'name', 'is', 'Tushar.']\n",
            "['My name ', 'is ', ' Tushar']\n",
            "My first_name is Tushar. \n"
          ]
        }
      ]
    },
    {
      "cell_type": "markdown",
      "source": [
        "### VSTACK,HSTACK,COLUMN STACK"
      ],
      "metadata": {
        "id": "ceLFB5_3Ieh7"
      }
    },
    {
      "cell_type": "code",
      "source": [
        "n1 = np.array([1,2,3,4,5])\n",
        "n2 = np.array([6,7,8,9,10])"
      ],
      "metadata": {
        "id": "qyqxdjC_ZnE7"
      },
      "execution_count": 19,
      "outputs": []
    },
    {
      "cell_type": "code",
      "source": [
        "print(np.vstack((n1,n2)))\n",
        "print(np.hstack((n1,n2)))\n",
        "print(np.column_stack((n1,n2)))"
      ],
      "metadata": {
        "id": "3u9__k4NZxJj",
        "colab": {
          "base_uri": "https://localhost:8080/"
        },
        "outputId": "89e1ba9e-b40d-4105-a527-b147f4fa1d1e"
      },
      "execution_count": 26,
      "outputs": [
        {
          "output_type": "stream",
          "name": "stdout",
          "text": [
            "[[ 1  2  3  4  5]\n",
            " [ 6  7  8  9 10]]\n",
            "[ 1  2  3  4  5  6  7  8  9 10]\n",
            "[[ 1  6]\n",
            " [ 2  7]\n",
            " [ 3  8]\n",
            " [ 4  9]\n",
            " [ 5 10]]\n"
          ]
        }
      ]
    },
    {
      "cell_type": "markdown",
      "source": [
        "### INTERSECT , DIFFERENCE "
      ],
      "metadata": {
        "id": "rXPEm6Y3MUts"
      }
    },
    {
      "cell_type": "code",
      "source": [
        "n1 = np.array([1,2,3,4,5])\n",
        "n2 = np.array([4,5,6,7,8])"
      ],
      "metadata": {
        "id": "wjOHSbIOMgDQ"
      },
      "execution_count": 27,
      "outputs": []
    },
    {
      "cell_type": "code",
      "source": [
        "# intersect1d : It will give the same elements between both the arrays.\n",
        "# setdiff1d : It will give the different element of 1st array from the 2nd array.\n",
        "print(np.intersect1d(n1,n2))\n",
        "print(np.setdiff1d(n1,n2))\n",
        "print(np.setdiff1d(n2,n1))"
      ],
      "metadata": {
        "colab": {
          "base_uri": "https://localhost:8080/"
        },
        "id": "T1RuDEEqMUIc",
        "outputId": "afa28f44-5aa9-403d-dd65-828c42b9bb01"
      },
      "execution_count": 33,
      "outputs": [
        {
          "output_type": "stream",
          "name": "stdout",
          "text": [
            "[4 5]\n",
            "[1 2 3]\n",
            "[6 7 8]\n"
          ]
        }
      ]
    },
    {
      "cell_type": "code",
      "source": [],
      "metadata": {
        "id": "urQsW0psMSP9"
      },
      "execution_count": null,
      "outputs": []
    },
    {
      "cell_type": "code",
      "source": [],
      "metadata": {
        "id": "s_tgE9R5Zyv_"
      },
      "execution_count": null,
      "outputs": []
    },
    {
      "cell_type": "code",
      "source": [],
      "metadata": {
        "id": "YxJ4uoPwZ3rL"
      },
      "execution_count": null,
      "outputs": []
    }
  ]
}