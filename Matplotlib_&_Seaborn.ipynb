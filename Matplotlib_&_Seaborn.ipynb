{
  "nbformat": 4,
  "nbformat_minor": 0,
  "metadata": {
    "colab": {
      "provenance": [],
      "authorship_tag": "ABX9TyNKvBoKdLaT3rHesJamqe5X",
      "include_colab_link": true
    },
    "kernelspec": {
      "name": "python3",
      "display_name": "Python 3"
    },
    "language_info": {
      "name": "python"
    }
  },
  "cells": [
    {
      "cell_type": "markdown",
      "metadata": {
        "id": "view-in-github",
        "colab_type": "text"
      },
      "source": [
        "<a href=\"https://colab.research.google.com/github/tusharmaurya267/Python_basic/blob/main/Matplotlib_%26_Seaborn.ipynb\" target=\"_parent\"><img src=\"https://colab.research.google.com/assets/colab-badge.svg\" alt=\"Open In Colab\"/></a>"
      ]
    },
    {
      "cell_type": "markdown",
      "source": [
        "# MATPLOTLIB & SEABORN"
      ],
      "metadata": {
        "id": "cQasncUhBsB_"
      }
    },
    {
      "cell_type": "code",
      "source": [
        "import matplotlib.pyplot as plt\n",
        "import numpy as np\n",
        "import pandas as pd"
      ],
      "metadata": {
        "id": "8CDfvzooBj9x"
      },
      "execution_count": 3,
      "outputs": []
    },
    {
      "cell_type": "code",
      "execution_count": 4,
      "metadata": {
        "id": "RP0wJKgv-Qsg"
      },
      "outputs": [],
      "source": [
        "plt.style.use(\"dark_background\")"
      ]
    },
    {
      "cell_type": "code",
      "source": [
        "rollno = pd.Series([1,2,3,4,5,6,7,8,9,10])\n",
        "marks = pd.Series([78,82,85,89,65,68,94,82,90,80])"
      ],
      "metadata": {
        "id": "diB_rv8BDp68"
      },
      "execution_count": 5,
      "outputs": []
    },
    {
      "cell_type": "code",
      "source": [
        "plt.scatter(rollno , marks , color = \"green\" , marker = \"*\")\n",
        "plt.show()"
      ],
      "metadata": {
        "colab": {
          "base_uri": "https://localhost:8080/",
          "height": 430
        },
        "id": "jXOLrNJYEMcm",
        "outputId": "43f5c6c3-cf41-4cb8-ec00-96053e169109"
      },
      "execution_count": 9,
      "outputs": [
        {
          "output_type": "display_data",
          "data": {
            "text/plain": [
              "<Figure size 640x480 with 1 Axes>"
            ],
            "image/png": "[encoded data removed]"
          },
          "metadata": {}
        }
      ]
    },
    {
      "cell_type": "code",
      "source": [
        "plt.figure(figsize=(3,2))\n",
        "plt.scatter(rollno , marks , color = \"green\" , marker = \"*\")\n",
        "plt.show()"
      ],
      "metadata": {
        "colab": {
          "base_uri": "https://localhost:8080/",
          "height": 214
        },
        "id": "K-xpcu14ES_n",
        "outputId": "7646f8a5-f517-4150-c12d-0fa7bd67111c"
      },
      "execution_count": 13,
      "outputs": [
        {
          "output_type": "display_data",
          "data": {
            "text/plain": [
              "<Figure size 300x200 with 1 Axes>"
            ],
            "image/png": "[encoded data removed]"
          },
          "metadata": {}
        }
      ]
    },
    {
      "cell_type": "code",
      "source": [
        "bangalore_temperature = pd.Series([])\n",
        "gurgaon_temperature = pd.Series([])\n",
        "\n",
        "bangalore_humidity = pd.Series([])\n",
        "gurgaon_humidity = pd.Series([])"
      ],
      "metadata": {
        "id": "RAU6mUJoE_VN"
      },
      "execution_count": null,
      "outputs": []
    }
  ]
}