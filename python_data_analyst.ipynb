{
  "nbformat": 4,
  "nbformat_minor": 0,
  "metadata": {
    "colab": {
      "provenance": [],
      "authorship_tag": "ABX9TyOq8eNiXvIYeBsWJqe1U970",
      "include_colab_link": true
    },
    "kernelspec": {
      "name": "python3",
      "display_name": "Python 3"
    },
    "language_info": {
      "name": "python"
    }
  },
  "cells": [
    {
      "cell_type": "markdown",
      "metadata": {
        "id": "view-in-github",
        "colab_type": "text"
      },
      "source": [
        "<a href=\"https://colab.research.google.com/github/tusharmaurya267/Python_basic/blob/main/python_data_analyst.ipynb\" target=\"_parent\"><img src=\"https://colab.research.google.com/assets/colab-badge.svg\" alt=\"Open In Colab\"/></a>"
      ]
    },
    {
      "cell_type": "markdown",
      "source": [
        "# **NUMPY**"
      ],
      "metadata": {
        "id": "A8_m1Rbpg-_5"
      }
    },
    {
      "cell_type": "code",
      "execution_count": 1,
      "metadata": {
        "id": "3Bi6rd_GXF5g"
      },
      "outputs": [],
      "source": [
        "import numpy as np"
      ]
    },
    {
      "cell_type": "code",
      "source": [
        "# 1D array of integer\n",
        "arr1 = np.array([1,2,3,4,5])\n",
        "print(arr1)\n",
        "print(type(arr1))\n",
        "print(size(arr1))\n",
        "print(arr1.size)\n",
        "print(arr1.shape)\n",
        "print(arr1.dtype)\n",
        "print(arr1.transpose())"
      ],
      "metadata": {
        "colab": {
          "base_uri": "https://localhost:8080/"
        },
        "id": "hNHiTWw8YR9m",
        "outputId": "3f665b03-6d07-4332-c679-73a77490f5df"
      },
      "execution_count": 25,
      "outputs": [
        {
          "output_type": "stream",
          "name": "stdout",
          "text": [
            "[1 2 3 4 5]\n",
            "<class 'numpy.ndarray'>\n",
            "5\n",
            "5\n",
            "(5,)\n",
            "int64\n",
            "[1 2 3 4 5]\n"
          ]
        }
      ]
    },
    {
      "cell_type": "code",
      "source": [
        "# 2D array of integer\n",
        "arr2 = np.array([[1,2,3,4],[5,6,7.1,8]])\n",
        "print(arr2)\n",
        "print(size(arr2))\n",
        "print(arr2.size)\n",
        "print(arr2.shape)\n",
        "print(arr2.dtype)\n",
        "print(arr2.transpose())"
      ],
      "metadata": {
        "colab": {
          "base_uri": "https://localhost:8080/"
        },
        "id": "b9a-DIuKYec3",
        "outputId": "a51eed4d-30e4-4003-8d14-0fe5c22456f6"
      },
      "execution_count": 26,
      "outputs": [
        {
          "output_type": "stream",
          "name": "stdout",
          "text": [
            "[[1.  2.  3.  4. ]\n",
            " [5.  6.  7.1 8. ]]\n",
            "8\n",
            "8\n",
            "(2, 4)\n",
            "float64\n",
            "[[1.  5. ]\n",
            " [2.  6. ]\n",
            " [3.  7.1]\n",
            " [4.  8. ]]\n"
          ]
        }
      ]
    },
    {
      "cell_type": "code",
      "source": [
        "# 1D array of characters\n",
        "arr2 = np.array(['a','b',3,'d'])\n",
        "print(arr2)\n",
        "print(size(arr2))\n",
        "print(arr2.size)\n",
        "print(arr2.shape)\n",
        "print(arr2.dtype)\n",
        "print(arr2.transpose())"
      ],
      "metadata": {
        "colab": {
          "base_uri": "https://localhost:8080/"
        },
        "id": "1uoOHF12Yxzh",
        "outputId": "97d5d216-dc50-40c4-fad0-21870a17c30b"
      },
      "execution_count": 42,
      "outputs": [
        {
          "output_type": "stream",
          "name": "stdout",
          "text": [
            "['a' 'b' '3' 'd']\n",
            "4\n",
            "4\n",
            "(4,)\n",
            "<U21\n",
            "['a' 'b' '3' 'd']\n"
          ]
        }
      ]
    },
    {
      "cell_type": "code",
      "source": [
        "# 2D array of characters\n",
        "arr2 = np.array([['a',3,'c','d'],['e',5.2,'g','h']])\n",
        "print(arr2)\n",
        "print(size(arr2))\n",
        "print(arr2.size)\n",
        "print(arr2.shape)\n",
        "print(arr2.dtype)\n",
        "print(arr2.transpose())"
      ],
      "metadata": {
        "colab": {
          "base_uri": "https://localhost:8080/"
        },
        "id": "m4vrma59cQ0U",
        "outputId": "7f59a794-6877-461d-ff89-e9b03bcaec75"
      },
      "execution_count": 44,
      "outputs": [
        {
          "output_type": "stream",
          "name": "stdout",
          "text": [
            "[['a' '3' 'c' 'd']\n",
            " ['e' '5.2' 'g' 'h']]\n",
            "8\n",
            "8\n",
            "(2, 4)\n",
            "<U32\n",
            "[['a' 'e']\n",
            " ['3' '5.2']\n",
            " ['c' 'g']\n",
            " ['d' 'h']]\n"
          ]
        }
      ]
    },
    {
      "cell_type": "code",
      "source": [
        "# creating empty array with different data types\n",
        "print(np.empty((4),dtype=int))\n",
        "print(np.empty((4,3),dtype=int))\n",
        "print(np.empty((4),dtype=float))\n",
        "print(np.empty((4,3),dtype=float))\n",
        "print(np.empty((4),dtype=str))\n",
        "print(np.empty((4,3),dtype=str))\n",
        "print(np.empty((4),dtype=bool))\n",
        "print(np.empty((4,3),dtype=bool))"
      ],
      "metadata": {
        "colab": {
          "base_uri": "https://localhost:8080/"
        },
        "id": "ZYF3OxoudnzB",
        "outputId": "6112eb32-fdce-4661-ebcf-dd4a8563eb89"
      },
      "execution_count": 39,
      "outputs": [
        {
          "output_type": "stream",
          "name": "stdout",
          "text": [
            "[4607182418800017408 4607182418800017408 4607182418800017408\n",
            " 4607182418800017408]\n",
            "[[4607182418800017408 4607182418800017408 4607182418800017408]\n",
            " [4607182418800017408 4607182418800017408 4607182418800017408]\n",
            " [4607182418800017408 4607182418800017408 4607182418800017408]\n",
            " [4607182418800017408 4607182418800017408 4607182418800017408]]\n",
            "[1. 1. 1. 1.]\n",
            "[[1. 1. 1.]\n",
            " [1. 1. 1.]\n",
            " [1. 1. 1.]\n",
            " [1. 1. 1.]]\n",
            "['' '' '' '']\n",
            "[['' '' '']\n",
            " ['' '' '']\n",
            " ['' '' '']\n",
            " ['' '' '']]\n",
            "[ True  True  True  True]\n",
            "[[ True  True  True]\n",
            " [ True  True  True]\n",
            " [ True  True  True]\n",
            " [ True  True  True]]\n"
          ]
        }
      ]
    },
    {
      "cell_type": "code",
      "source": [
        "# creating one's array with different data types\n",
        "print(np.ones((4),dtype=int))\n",
        "print(np.ones((4,3),dtype=int))\n",
        "print(np.ones((4),dtype=float))\n",
        "print(np.ones((4,3),dtype=float))\n",
        "print(np.ones((4),dtype=str))\n",
        "print(np.ones((4,3),dtype=str))\n",
        "print(np.ones((4),dtype=bool))\n",
        "print(np.ones((4,3),dtype=bool))"
      ],
      "metadata": {
        "colab": {
          "base_uri": "https://localhost:8080/"
        },
        "id": "AUiSJ9VhfLw4",
        "outputId": "61272305-70fa-4ab2-aa05-623ed2292b80"
      },
      "execution_count": 40,
      "outputs": [
        {
          "output_type": "stream",
          "name": "stdout",
          "text": [
            "[1 1 1 1]\n",
            "[[1 1 1]\n",
            " [1 1 1]\n",
            " [1 1 1]\n",
            " [1 1 1]]\n",
            "[1. 1. 1. 1.]\n",
            "[[1. 1. 1.]\n",
            " [1. 1. 1.]\n",
            " [1. 1. 1.]\n",
            " [1. 1. 1.]]\n",
            "['1' '1' '1' '1']\n",
            "[['1' '1' '1']\n",
            " ['1' '1' '1']\n",
            " ['1' '1' '1']\n",
            " ['1' '1' '1']]\n",
            "[ True  True  True  True]\n",
            "[[ True  True  True]\n",
            " [ True  True  True]\n",
            " [ True  True  True]\n",
            " [ True  True  True]]\n"
          ]
        }
      ]
    },
    {
      "cell_type": "code",
      "source": [
        "# creating zero's array with different data types\n",
        "print(np.zeros((4),dtype=int))\n",
        "print(np.zeros((4,3),dtype=int))\n",
        "print(np.zeros((4),dtype=float))\n",
        "print(np.zeros((4,3),dtype=float))\n",
        "print(np.zeros((4),dtype=str))\n",
        "print(np.zeros((4,3),dtype=str))\n",
        "print(np.zeros((4),dtype=bool))\n",
        "print(np.zeros((4,3),dtype=bool))"
      ],
      "metadata": {
        "colab": {
          "base_uri": "https://localhost:8080/"
        },
        "id": "D488A1cigTJN",
        "outputId": "537840a4-5a3d-48e9-be73-1e0a4e7f453f"
      },
      "execution_count": 41,
      "outputs": [
        {
          "output_type": "stream",
          "name": "stdout",
          "text": [
            "[0 0 0 0]\n",
            "[[0 0 0]\n",
            " [0 0 0]\n",
            " [0 0 0]\n",
            " [0 0 0]]\n",
            "[0. 0. 0. 0.]\n",
            "[[0. 0. 0.]\n",
            " [0. 0. 0.]\n",
            " [0. 0. 0.]\n",
            " [0. 0. 0.]]\n",
            "['' '' '' '']\n",
            "[['' '' '']\n",
            " ['' '' '']\n",
            " ['' '' '']\n",
            " ['' '' '']]\n",
            "[False False False False]\n",
            "[[False False False]\n",
            " [False False False]\n",
            " [False False False]\n",
            " [False False False]]\n"
          ]
        }
      ]
    },
    {
      "cell_type": "code",
      "source": [
        "# generating series of array\n",
        "arr1 = np.arange(0,10,2)\n",
        "arr2 = np.arange(0,10)\n",
        "arr3 = np.arange(6)\n",
        "print(arr1)\n",
        "print(arr2)\n",
        "print(arr3)"
      ],
      "metadata": {
        "colab": {
          "base_uri": "https://localhost:8080/"
        },
        "id": "jIgh0X4Zg7_U",
        "outputId": "b5501596-b94c-4afd-c40f-c4dad011cb95"
      },
      "execution_count": 63,
      "outputs": [
        {
          "output_type": "stream",
          "name": "stdout",
          "text": [
            "[0 2 4 6 8]\n",
            "[0 1 2 3 4 5 6 7 8 9]\n",
            "[0 1 2 3 4 5]\n"
          ]
        }
      ]
    },
    {
      "cell_type": "code",
      "source": [
        "# reshaping the array by making it multi-dimensional array\n",
        "arr2 = arr2.reshape((2,5))\n",
        "print(arr2)\n",
        "arr3 = arr3.reshape((3,2))\n",
        "print(arr3)"
      ],
      "metadata": {
        "colab": {
          "base_uri": "https://localhost:8080/"
        },
        "id": "YJ4DIjh_jRaz",
        "outputId": "0198e70b-97c8-4f58-f442-0d22391c48df"
      },
      "execution_count": 67,
      "outputs": [
        {
          "output_type": "stream",
          "name": "stdout",
          "text": [
            "[[0 1 2 3 4]\n",
            " [5 6 7 8 9]]\n",
            "[[0 1]\n",
            " [2 3]\n",
            " [4 5]]\n"
          ]
        }
      ]
    },
    {
      "cell_type": "code",
      "source": [
        "# reshaping the array by making it single dimensional array\n",
        "arr2 = arr2.flatten()\n",
        "print(arr2)\n",
        "arr3 = arr3.flatten()\n",
        "print(arr3)\n",
        "arr2 = arr2.ravel()\n",
        "print(arr2)\n",
        "arr3 = arr3.ravel()\n",
        "print(arr3)"
      ],
      "metadata": {
        "colab": {
          "base_uri": "https://localhost:8080/"
        },
        "id": "5hYch6Dgj9V3",
        "outputId": "8e4fa047-88b0-4835-a12f-1d5f2094f459"
      },
      "execution_count": 69,
      "outputs": [
        {
          "output_type": "stream",
          "name": "stdout",
          "text": [
            "[0 1 2 3 4 5 6 7 8 9]\n",
            "[0 1 2 3 4 5]\n",
            "[0 1 2 3 4 5 6 7 8 9]\n",
            "[0 1 2 3 4 5]\n"
          ]
        }
      ]
    },
    {
      "cell_type": "code",
      "source": [],
      "metadata": {
        "id": "R4J1xMP3mEXY"
      },
      "execution_count": null,
      "outputs": []
    }
  ]
}